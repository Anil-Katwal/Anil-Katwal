{
  "nbformat": 4,
  "nbformat_minor": 0,
  "metadata": {
    "colab": {
      "provenance": [],
      "gpuType": "T4",
      "authorship_tag": "ABX9TyM5q82E4lyEXDRmL4zzTSij",
      "include_colab_link": true
    },
    "kernelspec": {
      "name": "python3",
      "display_name": "Python 3"
    },
    "language_info": {
      "name": "python"
    },
    "accelerator": "GPU"
  },
  "cells": [
    {
      "cell_type": "markdown",
      "metadata": {
        "id": "view-in-github",
        "colab_type": "text"
      },
      "source": [
        "<a href=\"https://colab.research.google.com/github/Anil-Katwal/Anil-Katwal/blob/main/Tensor_flow6.ipynb\" target=\"_parent\"><img src=\"https://colab.research.google.com/assets/colab-badge.svg\" alt=\"Open In Colab\"/></a>"
      ]
    },
    {
      "cell_type": "code",
      "execution_count": 2,
      "metadata": {
        "id": "COiUFcAMFowg"
      },
      "outputs": [],
      "source": [
        "import os\n",
        "os.environ['TF_CPP_MIN_LOG_LEVEL']='2'"
      ]
    },
    {
      "cell_type": "code",
      "source": [
        "import tensorflow as tf\n",
        "from tensorflow import keras\n",
        "from tensorflow.keras import layers\n",
        "from tensorflow.keras.datasets import mnist"
      ],
      "metadata": {
        "id": "Vn5WYpYGF-UW"
      },
      "execution_count": 7,
      "outputs": []
    },
    {
      "cell_type": "code",
      "source": [
        "Physical_devices=tf.config.list_physical_devices('GPU')\n",
        "tf.config.experimental.set_memory_growth(Physical_devices[0],True)"
      ],
      "metadata": {
        "id": "C5ZjVV20GUwg"
      },
      "execution_count": 5,
      "outputs": []
    },
    {
      "cell_type": "code",
      "source": [
        "(x_train, y_train), (x_test, y_test) = mnist.load_data()"
      ],
      "metadata": {
        "colab": {
          "base_uri": "https://localhost:8080/"
        },
        "id": "EvFGur3xHOeP",
        "outputId": "910cac2e-49f1-4ea5-a5d9-05576dbfb403"
      },
      "execution_count": 8,
      "outputs": [
        {
          "output_type": "stream",
          "name": "stdout",
          "text": [
            "Downloading data from https://storage.googleapis.com/tensorflow/tf-keras-datasets/mnist.npz\n",
            "\u001b[1m11490434/11490434\u001b[0m \u001b[32m━━━━━━━━━━━━━━━━━━━━\u001b[0m\u001b[37m\u001b[0m \u001b[1m0s\u001b[0m 0us/step\n"
          ]
        }
      ]
    },
    {
      "cell_type": "code",
      "source": [
        "x_train=x_train.astype(\"float32\")/255.0\n",
        "x_test=x_test.astype(\"float32\")/255.0"
      ],
      "metadata": {
        "id": "zOdnLg9nH88N"
      },
      "execution_count": 9,
      "outputs": []
    },
    {
      "cell_type": "code",
      "source": [
        "from re import VERBOSE\n",
        "model=keras.Sequential()\n",
        "model.add(keras.Input(shape=(None,28)))\n",
        "model.add(\n",
        "    layers.SimpleRNN(512, return_sequences=True, activation='relu')\n",
        ")\n",
        "model.add(layers.SimpleRNN(512, activation='relu'))\n",
        "model.add(layers.Dense(10))\n",
        "\n",
        "\n",
        "model.compile(\n",
        "    loss=keras.losses.SparseCategoricalCrossentropy(from_logits=True),\n",
        "    optimizer=keras.optimizers.Adam(learning_rate=0.001),\n",
        "    metrics=[\"accuracy\"])\n",
        "\n",
        "model.fit(x_train, y_train, batch_size=64, epochs=10, verbose=2)\n",
        "model.evaluate(x_test, y_test, batch_size=64, verbose=2)"
      ],
      "metadata": {
        "colab": {
          "base_uri": "https://localhost:8080/"
        },
        "id": "0QYUdnPCIWTG",
        "outputId": "a6f8286e-7e8d-4810-ca93-37382d22f03e"
      },
      "execution_count": 13,
      "outputs": [
        {
          "output_type": "stream",
          "name": "stdout",
          "text": [
            "Epoch 1/10\n",
            "938/938 - 16s - 17ms/step - accuracy: 0.9080 - loss: 0.3000\n",
            "Epoch 2/10\n",
            "938/938 - 18s - 19ms/step - accuracy: 0.9649 - loss: 0.1319\n",
            "Epoch 3/10\n",
            "938/938 - 20s - 22ms/step - accuracy: 0.9655 - loss: 0.1251\n",
            "Epoch 4/10\n",
            "938/938 - 20s - 22ms/step - accuracy: 0.9718 - loss: 0.1065\n",
            "Epoch 5/10\n",
            "938/938 - 21s - 22ms/step - accuracy: 0.9702 - loss: 0.1106\n",
            "Epoch 6/10\n",
            "938/938 - 20s - 22ms/step - accuracy: 0.9733 - loss: 0.0961\n",
            "Epoch 7/10\n",
            "938/938 - 20s - 22ms/step - accuracy: 0.9764 - loss: 0.0902\n",
            "Epoch 8/10\n",
            "938/938 - 21s - 22ms/step - accuracy: 0.9794 - loss: 0.0760\n",
            "Epoch 9/10\n",
            "938/938 - 20s - 22ms/step - accuracy: 0.9807 - loss: 0.0733\n",
            "Epoch 10/10\n",
            "938/938 - 20s - 22ms/step - accuracy: 0.9800 - loss: 0.0720\n",
            "157/157 - 2s - 12ms/step - accuracy: 0.9798 - loss: 0.0779\n"
          ]
        },
        {
          "output_type": "execute_result",
          "data": {
            "text/plain": [
              "[0.07787016779184341, 0.9797999858856201]"
            ]
          },
          "metadata": {},
          "execution_count": 13
        }
      ]
    },
    {
      "cell_type": "code",
      "source": [
        "from re import VERBOSE\n",
        "model=keras.Sequential()\n",
        "model.add(keras.Input(shape=(None,28)))\n",
        "model.add(\n",
        "    layers.GRU(256, return_sequences=True, activation='tanh')\n",
        ")\n",
        "model.add(layers.GRU(256, activation='tanh'))\n",
        "model.add(layers.Dense(10))\n",
        "\n",
        "\n",
        "model.compile(\n",
        "    loss=keras.losses.SparseCategoricalCrossentropy(from_logits=True),\n",
        "    optimizer=keras.optimizers.Adam(learning_rate=0.001),\n",
        "    metrics=[\"accuracy\"])\n",
        "\n",
        "model.fit(x_train, y_train, batch_size=64, epochs=10, verbose=2)\n",
        "model.evaluate(x_test, y_test, batch_size=64, verbose=2)"
      ],
      "metadata": {
        "colab": {
          "base_uri": "https://localhost:8080/"
        },
        "id": "dwmuJoliKK1L",
        "outputId": "00171ab2-6141-40c4-e301-62a4773ad3e1"
      },
      "execution_count": 14,
      "outputs": [
        {
          "output_type": "stream",
          "name": "stdout",
          "text": [
            "Epoch 1/10\n",
            "938/938 - 9s - 10ms/step - accuracy: 0.9062 - loss: 0.2799\n",
            "Epoch 2/10\n",
            "938/938 - 6s - 6ms/step - accuracy: 0.9791 - loss: 0.0689\n",
            "Epoch 3/10\n",
            "938/938 - 10s - 11ms/step - accuracy: 0.9853 - loss: 0.0462\n",
            "Epoch 4/10\n",
            "938/938 - 10s - 11ms/step - accuracy: 0.9893 - loss: 0.0364\n",
            "Epoch 5/10\n",
            "938/938 - 10s - 11ms/step - accuracy: 0.9901 - loss: 0.0309\n",
            "Epoch 6/10\n",
            "938/938 - 6s - 6ms/step - accuracy: 0.9917 - loss: 0.0259\n",
            "Epoch 7/10\n",
            "938/938 - 10s - 11ms/step - accuracy: 0.9928 - loss: 0.0228\n",
            "Epoch 8/10\n",
            "938/938 - 10s - 11ms/step - accuracy: 0.9941 - loss: 0.0185\n",
            "Epoch 9/10\n",
            "938/938 - 6s - 6ms/step - accuracy: 0.9943 - loss: 0.0185\n",
            "Epoch 10/10\n",
            "938/938 - 10s - 11ms/step - accuracy: 0.9956 - loss: 0.0136\n",
            "157/157 - 1s - 6ms/step - accuracy: 0.9891 - loss: 0.0367\n"
          ]
        },
        {
          "output_type": "execute_result",
          "data": {
            "text/plain": [
              "[0.036662690341472626, 0.9890999794006348]"
            ]
          },
          "metadata": {},
          "execution_count": 14
        }
      ]
    },
    {
      "cell_type": "code",
      "source": [
        "from re import VERBOSE\n",
        "model=keras.Sequential()\n",
        "model.add(keras.Input(shape=(None,28)))\n",
        "model.add(\n",
        "    layers.LSTM(256, return_sequences=True, activation='tanh')\n",
        ")\n",
        "model.add(layers.LSTM(256, activation='tanh'))\n",
        "model.add(layers.Dense(10))\n",
        "\n",
        "\n",
        "model.compile(\n",
        "    loss=keras.losses.SparseCategoricalCrossentropy(from_logits=True),\n",
        "    optimizer=keras.optimizers.Adam(learning_rate=0.001),\n",
        "    metrics=[\"accuracy\"])\n",
        "\n",
        "model.fit(x_train, y_train, batch_size=64, epochs=10, verbose=2)\n",
        "model.evaluate(x_test, y_test, batch_size=64, verbose=2)"
      ],
      "metadata": {
        "colab": {
          "base_uri": "https://localhost:8080/"
        },
        "id": "5Q6TbGPFN0k-",
        "outputId": "54aa720c-032e-4e31-8c73-607a3be9d4b1"
      },
      "execution_count": 15,
      "outputs": [
        {
          "output_type": "stream",
          "name": "stdout",
          "text": [
            "Epoch 1/10\n",
            "938/938 - 9s - 9ms/step - accuracy: 0.8965 - loss: 0.3138\n",
            "Epoch 2/10\n",
            "938/938 - 6s - 7ms/step - accuracy: 0.9732 - loss: 0.0879\n",
            "Epoch 3/10\n",
            "938/938 - 10s - 11ms/step - accuracy: 0.9821 - loss: 0.0582\n",
            "Epoch 4/10\n",
            "938/938 - 10s - 11ms/step - accuracy: 0.9859 - loss: 0.0462\n",
            "Epoch 5/10\n",
            "938/938 - 7s - 7ms/step - accuracy: 0.9891 - loss: 0.0354\n",
            "Epoch 6/10\n",
            "938/938 - 10s - 11ms/step - accuracy: 0.9902 - loss: 0.0319\n",
            "Epoch 7/10\n",
            "938/938 - 10s - 11ms/step - accuracy: 0.9917 - loss: 0.0263\n",
            "Epoch 8/10\n",
            "938/938 - 10s - 11ms/step - accuracy: 0.9925 - loss: 0.0228\n",
            "Epoch 9/10\n",
            "938/938 - 7s - 7ms/step - accuracy: 0.9933 - loss: 0.0218\n",
            "Epoch 10/10\n",
            "938/938 - 10s - 11ms/step - accuracy: 0.9940 - loss: 0.0183\n",
            "157/157 - 1s - 5ms/step - accuracy: 0.9909 - loss: 0.0288\n"
          ]
        },
        {
          "output_type": "execute_result",
          "data": {
            "text/plain": [
              "[0.028778232634067535, 0.9908999800682068]"
            ]
          },
          "metadata": {},
          "execution_count": 15
        }
      ]
    },
    {
      "cell_type": "code",
      "source": [
        "from re import VERBOSE\n",
        "model=keras.Sequential()\n",
        "model.add(keras.Input(shape=(None,28)))\n",
        "model.add(\n",
        "    layers.Bidirectional(\n",
        "    layers.GRU(256, return_sequences=True, activation='tanh')\n",
        "    )\n",
        ")\n",
        "model.add(layers.GRU(256, activation='tanh'))\n",
        "model.add(layers.Dense(10))\n",
        "\n",
        "print(model.summary())\n",
        "\n",
        "model.compile(\n",
        "    loss=keras.losses.SparseCategoricalCrossentropy(from_logits=True),\n",
        "    optimizer=keras.optimizers.Adam(learning_rate=0.001),\n",
        "    metrics=[\"accuracy\"])\n",
        "\n",
        "model.fit(x_train, y_train, batch_size=64, epochs=10, verbose=2)\n",
        "model.evaluate(x_test, y_test, batch_size=64, verbose=2)"
      ],
      "metadata": {
        "colab": {
          "base_uri": "https://localhost:8080/",
          "height": 624
        },
        "id": "E8o77J6pOVrI",
        "outputId": "ef9d8aa7-e377-4d9b-9370-68b01b2f9a5e"
      },
      "execution_count": 16,
      "outputs": [
        {
          "output_type": "display_data",
          "data": {
            "text/plain": [
              "\u001b[1mModel: \"sequential_6\"\u001b[0m\n"
            ],
            "text/html": [
              "<pre style=\"white-space:pre;overflow-x:auto;line-height:normal;font-family:Menlo,'DejaVu Sans Mono',consolas,'Courier New',monospace\"><span style=\"font-weight: bold\">Model: \"sequential_6\"</span>\n",
              "</pre>\n"
            ]
          },
          "metadata": {}
        },
        {
          "output_type": "display_data",
          "data": {
            "text/plain": [
              "┏━━━━━━━━━━━━━━━━━━━━━━━━━━━━━━━━━━━━━━┳━━━━━━━━━━━━━━━━━━━━━━━━━━━━━┳━━━━━━━━━━━━━━━━━┓\n",
              "┃\u001b[1m \u001b[0m\u001b[1mLayer (type)                        \u001b[0m\u001b[1m \u001b[0m┃\u001b[1m \u001b[0m\u001b[1mOutput Shape               \u001b[0m\u001b[1m \u001b[0m┃\u001b[1m \u001b[0m\u001b[1m        Param #\u001b[0m\u001b[1m \u001b[0m┃\n",
              "┡━━━━━━━━━━━━━━━━━━━━━━━━━━━━━━━━━━━━━━╇━━━━━━━━━━━━━━━━━━━━━━━━━━━━━╇━━━━━━━━━━━━━━━━━┩\n",
              "│ bidirectional (\u001b[38;5;33mBidirectional\u001b[0m)        │ (\u001b[38;5;45mNone\u001b[0m, \u001b[38;5;45mNone\u001b[0m, \u001b[38;5;34m512\u001b[0m)           │         \u001b[38;5;34m439,296\u001b[0m │\n",
              "├──────────────────────────────────────┼─────────────────────────────┼─────────────────┤\n",
              "│ gru_3 (\u001b[38;5;33mGRU\u001b[0m)                          │ (\u001b[38;5;45mNone\u001b[0m, \u001b[38;5;34m256\u001b[0m)                 │         \u001b[38;5;34m591,360\u001b[0m │\n",
              "├──────────────────────────────────────┼─────────────────────────────┼─────────────────┤\n",
              "│ dense_6 (\u001b[38;5;33mDense\u001b[0m)                      │ (\u001b[38;5;45mNone\u001b[0m, \u001b[38;5;34m10\u001b[0m)                  │           \u001b[38;5;34m2,570\u001b[0m │\n",
              "└──────────────────────────────────────┴─────────────────────────────┴─────────────────┘\n"
            ],
            "text/html": [
              "<pre style=\"white-space:pre;overflow-x:auto;line-height:normal;font-family:Menlo,'DejaVu Sans Mono',consolas,'Courier New',monospace\">┏━━━━━━━━━━━━━━━━━━━━━━━━━━━━━━━━━━━━━━┳━━━━━━━━━━━━━━━━━━━━━━━━━━━━━┳━━━━━━━━━━━━━━━━━┓\n",
              "┃<span style=\"font-weight: bold\"> Layer (type)                         </span>┃<span style=\"font-weight: bold\"> Output Shape                </span>┃<span style=\"font-weight: bold\">         Param # </span>┃\n",
              "┡━━━━━━━━━━━━━━━━━━━━━━━━━━━━━━━━━━━━━━╇━━━━━━━━━━━━━━━━━━━━━━━━━━━━━╇━━━━━━━━━━━━━━━━━┩\n",
              "│ bidirectional (<span style=\"color: #0087ff; text-decoration-color: #0087ff\">Bidirectional</span>)        │ (<span style=\"color: #00d7ff; text-decoration-color: #00d7ff\">None</span>, <span style=\"color: #00d7ff; text-decoration-color: #00d7ff\">None</span>, <span style=\"color: #00af00; text-decoration-color: #00af00\">512</span>)           │         <span style=\"color: #00af00; text-decoration-color: #00af00\">439,296</span> │\n",
              "├──────────────────────────────────────┼─────────────────────────────┼─────────────────┤\n",
              "│ gru_3 (<span style=\"color: #0087ff; text-decoration-color: #0087ff\">GRU</span>)                          │ (<span style=\"color: #00d7ff; text-decoration-color: #00d7ff\">None</span>, <span style=\"color: #00af00; text-decoration-color: #00af00\">256</span>)                 │         <span style=\"color: #00af00; text-decoration-color: #00af00\">591,360</span> │\n",
              "├──────────────────────────────────────┼─────────────────────────────┼─────────────────┤\n",
              "│ dense_6 (<span style=\"color: #0087ff; text-decoration-color: #0087ff\">Dense</span>)                      │ (<span style=\"color: #00d7ff; text-decoration-color: #00d7ff\">None</span>, <span style=\"color: #00af00; text-decoration-color: #00af00\">10</span>)                  │           <span style=\"color: #00af00; text-decoration-color: #00af00\">2,570</span> │\n",
              "└──────────────────────────────────────┴─────────────────────────────┴─────────────────┘\n",
              "</pre>\n"
            ]
          },
          "metadata": {}
        },
        {
          "output_type": "display_data",
          "data": {
            "text/plain": [
              "\u001b[1m Total params: \u001b[0m\u001b[38;5;34m1,033,226\u001b[0m (3.94 MB)\n"
            ],
            "text/html": [
              "<pre style=\"white-space:pre;overflow-x:auto;line-height:normal;font-family:Menlo,'DejaVu Sans Mono',consolas,'Courier New',monospace\"><span style=\"font-weight: bold\"> Total params: </span><span style=\"color: #00af00; text-decoration-color: #00af00\">1,033,226</span> (3.94 MB)\n",
              "</pre>\n"
            ]
          },
          "metadata": {}
        },
        {
          "output_type": "display_data",
          "data": {
            "text/plain": [
              "\u001b[1m Trainable params: \u001b[0m\u001b[38;5;34m1,033,226\u001b[0m (3.94 MB)\n"
            ],
            "text/html": [
              "<pre style=\"white-space:pre;overflow-x:auto;line-height:normal;font-family:Menlo,'DejaVu Sans Mono',consolas,'Courier New',monospace\"><span style=\"font-weight: bold\"> Trainable params: </span><span style=\"color: #00af00; text-decoration-color: #00af00\">1,033,226</span> (3.94 MB)\n",
              "</pre>\n"
            ]
          },
          "metadata": {}
        },
        {
          "output_type": "display_data",
          "data": {
            "text/plain": [
              "\u001b[1m Non-trainable params: \u001b[0m\u001b[38;5;34m0\u001b[0m (0.00 B)\n"
            ],
            "text/html": [
              "<pre style=\"white-space:pre;overflow-x:auto;line-height:normal;font-family:Menlo,'DejaVu Sans Mono',consolas,'Courier New',monospace\"><span style=\"font-weight: bold\"> Non-trainable params: </span><span style=\"color: #00af00; text-decoration-color: #00af00\">0</span> (0.00 B)\n",
              "</pre>\n"
            ]
          },
          "metadata": {}
        },
        {
          "output_type": "stream",
          "name": "stdout",
          "text": [
            "None\n",
            "Epoch 1/10\n",
            "938/938 - 11s - 12ms/step - accuracy: 0.9147 - loss: 0.2588\n",
            "Epoch 2/10\n",
            "938/938 - 9s - 9ms/step - accuracy: 0.9814 - loss: 0.0623\n",
            "Epoch 3/10\n",
            "938/938 - 9s - 10ms/step - accuracy: 0.9863 - loss: 0.0440\n",
            "Epoch 4/10\n",
            "938/938 - 10s - 11ms/step - accuracy: 0.9888 - loss: 0.0355\n",
            "Epoch 5/10\n",
            "938/938 - 10s - 11ms/step - accuracy: 0.9910 - loss: 0.0291\n",
            "Epoch 6/10\n",
            "938/938 - 9s - 9ms/step - accuracy: 0.9918 - loss: 0.0262\n",
            "Epoch 7/10\n",
            "938/938 - 10s - 11ms/step - accuracy: 0.9925 - loss: 0.0220\n",
            "Epoch 8/10\n",
            "938/938 - 10s - 11ms/step - accuracy: 0.9941 - loss: 0.0179\n",
            "Epoch 9/10\n",
            "938/938 - 9s - 9ms/step - accuracy: 0.9951 - loss: 0.0155\n",
            "Epoch 10/10\n",
            "938/938 - 10s - 11ms/step - accuracy: 0.9951 - loss: 0.0154\n",
            "157/157 - 1s - 6ms/step - accuracy: 0.9907 - loss: 0.0347\n"
          ]
        },
        {
          "output_type": "execute_result",
          "data": {
            "text/plain": [
              "[0.034735579043626785, 0.9907000064849854]"
            ]
          },
          "metadata": {},
          "execution_count": 16
        }
      ]
    }
  ]
}