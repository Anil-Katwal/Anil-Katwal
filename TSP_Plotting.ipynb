{
  "nbformat": 4,
  "nbformat_minor": 0,
  "metadata": {
    "colab": {
      "provenance": [],
      "include_colab_link": true
    },
    "kernelspec": {
      "name": "python3",
      "display_name": "Python 3"
    },
    "language_info": {
      "name": "python"
    },
    "widgets": {
      "application/vnd.jupyter.widget-state+json": {
        "570cd04806944690896d91806ae44d60": {
          "model_module": "keplergl-jupyter",
          "model_name": "KeplerGlModal",
          "model_module_version": "^0.3.2",
          "state": {
            "_dom_classes": [],
            "_model_module": "keplergl-jupyter",
            "_model_module_version": "^0.3.2",
            "_model_name": "KeplerGlModal",
            "_view_count": null,
            "_view_module": "keplergl-jupyter",
            "_view_module_version": "^0.3.2",
            "_view_name": "KeplerGlView",
            "config": {
              "version": "v1",
              "config": {
                "visState": {
                  "filters": [],
                  "layers": [
                    {
                      "id": "5d4o5hb",
                      "type": "geojson",
                      "config": {
                        "dataId": "Line_data",
                        "label": "Line_data",
                        "color": [
                          18,
                          147,
                          154
                        ],
                        "highlightColor": [
                          252,
                          242,
                          26,
                          255
                        ],
                        "columns": {
                          "geojson": "geometry"
                        },
                        "isVisible": true,
                        "visConfig": {
                          "opacity": 0.8,
                          "strokeOpacity": 0.8,
                          "thickness": 0.5,
                          "strokeColor": null,
                          "colorRange": {
                            "name": "Global Warming",
                            "type": "sequential",
                            "category": "Uber",
                            "colors": [
                              "#5A1846",
                              "#900C3F",
                              "#C70039",
                              "#E3611C",
                              "#F1920E",
                              "#FFC300"
                            ]
                          },
                          "strokeColorRange": {
                            "name": "Global Warming",
                            "type": "sequential",
                            "category": "Uber",
                            "colors": [
                              "#5A1846",
                              "#900C3F",
                              "#C70039",
                              "#E3611C",
                              "#F1920E",
                              "#FFC300"
                            ]
                          },
                          "radius": 10,
                          "sizeRange": [
                            0,
                            10
                          ],
                          "radiusRange": [
                            0,
                            50
                          ],
                          "heightRange": [
                            0,
                            500
                          ],
                          "elevationScale": 5,
                          "enableElevationZoomFactor": true,
                          "stroked": true,
                          "filled": false,
                          "enable3d": false,
                          "wireframe": false
                        },
                        "hidden": false,
                        "textLabel": [
                          {
                            "field": null,
                            "color": [
                              255,
                              255,
                              255
                            ],
                            "size": 18,
                            "offset": [
                              0,
                              0
                            ],
                            "anchor": "start",
                            "alignment": "center"
                          }
                        ]
                      },
                      "visualChannels": {
                        "colorField": null,
                        "colorScale": "quantile",
                        "strokeColorField": null,
                        "strokeColorScale": "quantile",
                        "sizeField": null,
                        "sizeScale": "linear",
                        "heightField": null,
                        "heightScale": "linear",
                        "radiusField": null,
                        "radiusScale": "linear"
                      }
                    },
                    {
                      "id": "a9b8p7",
                      "type": "point",
                      "config": {
                        "dataId": "lat_long",
                        "label": "Lat_Long data",
                        "color": [
                          231,
                          159,
                          213
                        ],
                        "highlightColor": [
                          252,
                          242,
                          26,
                          255
                        ],
                        "columns": {
                          "lat": "lat",
                          "lng": "long",
                          "altitude": null
                        },
                        "isVisible": true,
                        "visConfig": {
                          "radius": 10,
                          "fixedRadius": false,
                          "opacity": 0.8,
                          "outline": false,
                          "thickness": 2,
                          "strokeColor": null,
                          "colorRange": {
                            "name": "Global Warming",
                            "type": "sequential",
                            "category": "Uber",
                            "colors": [
                              "#5A1846",
                              "#900C3F",
                              "#C70039",
                              "#E3611C",
                              "#F1920E",
                              "#FFC300"
                            ]
                          },
                          "strokeColorRange": {
                            "name": "Global Warming",
                            "type": "sequential",
                            "category": "Uber",
                            "colors": [
                              "#5A1846",
                              "#900C3F",
                              "#C70039",
                              "#E3611C",
                              "#F1920E",
                              "#FFC300"
                            ]
                          },
                          "radiusRange": [
                            0,
                            50
                          ],
                          "filled": true
                        },
                        "hidden": false,
                        "textLabel": [
                          {
                            "field": null,
                            "color": [
                              255,
                              255,
                              255
                            ],
                            "size": 18,
                            "offset": [
                              0,
                              0
                            ],
                            "anchor": "start",
                            "alignment": "center"
                          }
                        ]
                      },
                      "visualChannels": {
                        "colorField": {
                          "name": "id",
                          "type": "string"
                        },
                        "colorScale": "ordinal",
                        "strokeColorField": null,
                        "strokeColorScale": "quantile",
                        "sizeField": null,
                        "sizeScale": "linear"
                      }
                    }
                  ],
                  "interactionConfig": {
                    "tooltip": {
                      "fieldsToShow": {
                        "Line_data": [
                          {
                            "name": "rider_id",
                            "format": null
                          }
                        ],
                        "lat_long": [
                          {
                            "name": "id",
                            "format": null
                          },
                          {
                            "name": "long",
                            "format": null
                          }
                        ],
                        "all_features": [
                          {
                            "name": "Rider_ID",
                            "format": null
                          }
                        ]
                      },
                      "compareMode": false,
                      "compareType": "absolute",
                      "enabled": true
                    },
                    "brush": {
                      "size": 0.5,
                      "enabled": false
                    },
                    "geocoder": {
                      "enabled": false
                    },
                    "coordinate": {
                      "enabled": false
                    }
                  },
                  "layerBlending": "normal",
                  "splitMaps": [],
                  "animationConfig": {
                    "currentTime": null,
                    "speed": 1
                  }
                },
                "mapState": {
                  "bearing": 0,
                  "dragRotate": false,
                  "latitude": 19.35479806763001,
                  "longitude": 92.64163227541316,
                  "pitch": 0,
                  "zoom": 2.858970959177387,
                  "isSplit": false
                },
                "mapStyle": {
                  "styleType": "dark",
                  "topLayerGroups": {},
                  "visibleLayerGroups": {
                    "label": true,
                    "road": true,
                    "border": false,
                    "building": true,
                    "water": true,
                    "land": true,
                    "3d building": false
                  },
                  "threeDBuildingColor": [
                    9.665468314072013,
                    17.18305478057247,
                    31.1442867897876
                  ],
                  "mapStyles": {}
                }
              }
            },
            "data": {
              "Line_data": {
                "index": [
                  0
                ],
                "columns": [
                  "rider_id",
                  "geometry"
                ],
                "data": [
                  [
                    0,
                    "LINESTRING (88.3378 22.5411, 88.11 22.47, 88.45 22.2333, 91.2667 23.8333, 92.72 23.7104, 93.95 24.82, 94.1194 25.6667, 93.62 27.1, 91.8789 25.5744, 91.77 26.15, 91.7667 26.1667, 88.62 27.33, 88.42 26.72, 87.47 25.78, 87.0167 25.25, 86.13 25.42, 85.3833 26.12, 85.1414 25.61, 85.0167 24.75, 85.3347 23.3556, 84.8828 22.2492, 83.9701 21.4704, 82.0167 22.15, 81.6337 21.2379, 81.4333 21.2167, 81.28 21.19, 79.9333 23.1667, 80.83 24.16, 81.84 25.455, 82.58 25.15, 83.0128 25.3189, 83.3667 26.7611, 80.947 26.847, 80.3311 26.4725, 79.015 26.7855, 78.3949 27.15, 78.02 27.18, 77.49 27.2172, 77.6833 27.4833, 78.08 27.88, 79.905 27.8804, 79.415 28.364, 79.025 28.8154, 78.7568 28.8418, 78.55 28.58, 77.7628 28.7437, 77.7 28.99, 77.7033 29.4708, 76.97 29.4004, 76.97 29.6804, 77.546 29.964, 78.029 30.318, 76.8537 30.6915, 76.7911 30.7353, 77.1722 31.1033, 74.8061 34.0911, 74.28 34.4, 74.85 32.7333, 74.85 31.6167, 75.5792 31.3256, 75.8486 30.9083, 76.385 30.3204, 75.7367 29.1489, 76.5667 28.9, 77.0114 28.9958, 77.2 28.7, 77.23 28.66, 77.4167 28.6667, 77.3167 28.4333, 76.6167 27.5667, 75.1397 27.6119, 73.3169 28.0181, 73.0168 26.2918, 73.3233 25.7725, 73.6833 24.5833, 74.6333 25.35, 75.83 25.18, 74.639 26.468, 75.8667 26.9167, 78.1931 26.215, 78.5696 25.4486, 78.75 23.8504, 77.4167 23.25, 75.7772 23.1828, 75.0667 23.3167, 75.8472 22.7206, 75.5667 21.0167, 74.7833 20.9, 74.55 20.55, 73.2 22.3, 72.58 23.03, 72.68 23.22, 69.81 23.2504, 70.07 22.47, 69.6047 21.6425, 70.7984 22.2969, 72.1369 21.765, 72.83 21.17, 72.85 20.417, 73.7833 20, 72.85 19.3, 72.8333 18.9667, 72.9633 19.18, 73.0667 19.3, 73.1602 19.2502, 73.15 19.2167, 73.8131 18.6278, 73.8553 18.5196, 74.7333 19.0833, 75.32 19.88, 77 20.7333, 77.75 20.9333, 79.0831 21.1539, 79.3 19.95, 79.4661 19.3316, 79.45 18.8, 79.15 18.4333, 79.6011 17.9756, 78.4667 17.3667, 77.5175 17.9229, 78.1 18.6704, 77.3333 19.15, 76.76 19.2704, 76.57 18.4004, 76.8333 17.3333, 75.9167 17.6833, 75.7154 16.8244, 74.5667 16.8667, 74.47 16.7, 74.2333 16.7, 73.83 15.48, 74.5 15.8667, 75.125 15.36, 75.56 13.9304, 75.9167 14.4667, 76.4 15.2667, 76.915 15.15, 77.355 16.2104, 78.035 15.8222, 77.6 14.6833, 77.1 13.33, 77.598 12.9699, 77.5946 12.9716, 76.6531 12.3086, 74.8806 12.8703, 72.6369 10.5626, 75.7667 11.25, 76.21 10.52, 76.2833 9.9667, 76.5864 8.8853, 76.8997 8.5, 77.43 8.17, 77.7081 8.7289, 78.1333 8.7833, 77.58 9.4204, 78.1194 9.9197, 76.9667 11, 77.3398 11.1075, 78.1667 11.65, 78.6928 10.8269, 79.15 10.8, 79.83 11.93, 80.275 13.0825, 79.42 13.65, 78.8167 14.4667, 79.9667 14.4333, 80.05 15.5, 80.45 16.3, 80.6167 16.5167, 81.7833 16.9833, 82.2167 16.9333, 83.3167 17.7333, 83.4167 18.1167, 92.75 11.6667, 84.8 19.32, 85.8281 20.2644, 85.8667 20.45, 86.1833 22.8, 86.435 23.7928, 86.85 23.73, 86.9667 23.6833, 87.32 23.55, 87.85 23.25, 88.4167 22.8667, 88.37 22.69, 88.37 22.67, 88.34 22.65, 88.31 22.59, 88.3378 22.5411)"
                  ]
                ]
              },
              "lat_long": {
                "index": [
                  0,
                  1,
                  2,
                  3,
                  4,
                  5,
                  6,
                  7,
                  8,
                  9,
                  10,
                  11,
                  12,
                  13,
                  14,
                  15,
                  16,
                  17,
                  18,
                  19,
                  20,
                  21,
                  22,
                  23,
                  24,
                  25,
                  26,
                  27,
                  28,
                  29,
                  30,
                  31,
                  32,
                  33,
                  34,
                  35,
                  36,
                  37,
                  38,
                  39,
                  40,
                  41,
                  42,
                  43,
                  44,
                  45,
                  46,
                  47,
                  48,
                  49,
                  50,
                  51,
                  52,
                  53,
                  54,
                  55,
                  56,
                  57,
                  58,
                  59,
                  60,
                  61,
                  62,
                  63,
                  64,
                  65,
                  66,
                  67,
                  68,
                  69,
                  70,
                  71,
                  72,
                  73,
                  74,
                  75,
                  76,
                  77,
                  78,
                  79,
                  80,
                  81,
                  82,
                  83,
                  84,
                  85,
                  86,
                  87,
                  88,
                  89,
                  90,
                  91,
                  92,
                  93,
                  94,
                  95,
                  96,
                  97,
                  98,
                  99,
                  100,
                  101,
                  102,
                  103,
                  104,
                  105,
                  106,
                  107,
                  108,
                  109,
                  110,
                  111,
                  112,
                  113,
                  114,
                  115,
                  116,
                  117,
                  118,
                  119,
                  120,
                  121,
                  122,
                  123,
                  124,
                  125,
                  126,
                  127,
                  128,
                  129,
                  130,
                  131,
                  132,
                  133,
                  134,
                  135,
                  136,
                  137,
                  138,
                  139,
                  140,
                  141,
                  142,
                  143,
                  144,
                  145,
                  146,
                  147,
                  148,
                  149,
                  150,
                  151,
                  152,
                  153,
                  154,
                  155,
                  156,
                  157,
                  158,
                  159,
                  160,
                  161,
                  162,
                  163,
                  164,
                  165,
                  166,
                  167,
                  168,
                  169,
                  170,
                  171,
                  172,
                  173,
                  174,
                  175,
                  176,
                  177,
                  178,
                  179,
                  180,
                  181,
                  182,
                  183,
                  184,
                  185,
                  186,
                  187
                ],
                "columns": [
                  "id",
                  "lat",
                  "long"
                ],
                "data": [
                  [
                    "Kolkata",
                    22.5411,
                    88.3378
                  ],
                  [
                    "Delhi",
                    28.66,
                    77.23
                  ],
                  [
                    "Mumbai",
                    18.9667,
                    72.8333
                  ],
                  [
                    "Bangalore",
                    12.9699,
                    77.598
                  ],
                  [
                    "Chennai",
                    13.0825,
                    80.275
                  ],
                  [
                    "Hyderabad",
                    17.3667,
                    78.4667
                  ],
                  [
                    "Pune",
                    18.5196,
                    73.8553
                  ],
                  [
                    "Ahmadabad",
                    23.03,
                    72.58
                  ],
                  [
                    "Surat",
                    21.17,
                    72.83
                  ],
                  [
                    "Lucknow",
                    26.847,
                    80.947
                  ],
                  [
                    "Jaipur",
                    26.9167,
                    75.8667
                  ],
                  [
                    "Cawnpore",
                    26.4725,
                    80.3311
                  ],
                  [
                    "Mirzapur",
                    25.15,
                    82.58
                  ],
                  [
                    "Nagpur",
                    21.1539,
                    79.0831
                  ],
                  [
                    "Ghaziabad",
                    28.6667,
                    77.4167
                  ],
                  [
                    "Indore",
                    22.7206,
                    75.8472
                  ],
                  [
                    "Vadodara",
                    22.3,
                    73.2
                  ],
                  [
                    "Visakhapatnam",
                    17.7333,
                    83.3167
                  ],
                  [
                    "Bhopal",
                    23.25,
                    77.4167
                  ],
                  [
                    "Chinchvad",
                    18.6278,
                    73.8131
                  ],
                  [
                    "Patna",
                    25.61,
                    85.1414
                  ],
                  [
                    "Ludhiāna",
                    30.9083,
                    75.8486
                  ],
                  [
                    "Agra",
                    27.18,
                    78.02
                  ],
                  [
                    "Kalyan",
                    19.2502,
                    73.1602
                  ],
                  [
                    "Madurai",
                    9.9197,
                    78.1194
                  ],
                  [
                    "Jamshedpur",
                    22.8,
                    86.1833
                  ],
                  [
                    "Nashik",
                    20,
                    73.7833
                  ],
                  [
                    "Faridabad",
                    28.4333,
                    77.3167
                  ],
                  [
                    "Aurangabad",
                    19.88,
                    75.32
                  ],
                  [
                    "Rajkot",
                    22.2969,
                    70.7984
                  ],
                  [
                    "Meerut",
                    28.99,
                    77.7
                  ],
                  [
                    "Jabalpur",
                    23.1667,
                    79.9333
                  ],
                  [
                    "Thane",
                    19.18,
                    72.9633
                  ],
                  [
                    "Dhanbad",
                    23.7928,
                    86.435
                  ],
                  [
                    "Allahabad",
                    25.455,
                    81.84
                  ],
                  [
                    "Varanasi",
                    25.3189,
                    83.0128
                  ],
                  [
                    "Srinagar",
                    34.0911,
                    74.8061
                  ],
                  [
                    "Amritsar",
                    31.6167,
                    74.85
                  ],
                  [
                    "Aligarh",
                    27.88,
                    78.08
                  ],
                  [
                    "Bhiwandi",
                    19.3,
                    73.0667
                  ],
                  [
                    "Gwalior",
                    26.215,
                    78.1931
                  ],
                  [
                    "Bhilai",
                    21.2167,
                    81.4333
                  ],
                  [
                    "Haora",
                    22.59,
                    88.31
                  ],
                  [
                    "Ranchi",
                    23.3556,
                    85.3347
                  ],
                  [
                    "Bezwada",
                    16.5167,
                    80.6167
                  ],
                  [
                    "Chandigarh",
                    30.7353,
                    76.7911
                  ],
                  [
                    "Mysore",
                    12.3086,
                    76.6531
                  ],
                  [
                    "Raipur",
                    21.2379,
                    81.6337
                  ],
                  [
                    "Kota",
                    25.18,
                    75.83
                  ],
                  [
                    "Bareilly",
                    28.364,
                    79.415
                  ],
                  [
                    "Jodhpur",
                    26.2918,
                    73.0168
                  ],
                  [
                    "Coimbatore",
                    11,
                    76.9667
                  ],
                  [
                    "Dispur",
                    26.15,
                    91.77
                  ],
                  [
                    "Guwahati",
                    26.1667,
                    91.7667
                  ],
                  [
                    "Solapur",
                    17.6833,
                    75.9167
                  ],
                  [
                    "Trichinopoly",
                    10.8269,
                    78.6928
                  ],
                  [
                    "Hubli",
                    15.36,
                    75.125
                  ],
                  [
                    "Jalandhar",
                    31.3256,
                    75.5792
                  ],
                  [
                    "Bhubaneshwar",
                    20.2644,
                    85.8281
                  ],
                  [
                    "Bhayandar",
                    19.3,
                    72.85
                  ],
                  [
                    "Moradabad",
                    28.8418,
                    78.7568
                  ],
                  [
                    "Kolhāpur",
                    16.7,
                    74.2333
                  ],
                  [
                    "Thiruvananthapuram",
                    8.5,
                    76.8997
                  ],
                  [
                    "Sahāranpur",
                    29.964,
                    77.546
                  ],
                  [
                    "Warangal",
                    17.9756,
                    79.6011
                  ],
                  [
                    "Salem",
                    11.65,
                    78.1667
                  ],
                  [
                    "Mālegaon",
                    20.55,
                    74.55
                  ],
                  [
                    "Kochi",
                    9.9667,
                    76.2833
                  ],
                  [
                    "Gorakhpur",
                    26.7611,
                    83.3667
                  ],
                  [
                    "Shimoga",
                    13.9304,
                    75.56
                  ],
                  [
                    "Tiruppūr",
                    11.1075,
                    77.3398
                  ],
                  [
                    "Guntūr",
                    16.3,
                    80.45
                  ],
                  [
                    "Raurkela",
                    22.2492,
                    84.8828
                  ],
                  [
                    "Mangalore",
                    12.8703,
                    74.8806
                  ],
                  [
                    "Nānded",
                    19.15,
                    77.3333
                  ],
                  [
                    "Cuttack",
                    20.45,
                    85.8667
                  ],
                  [
                    "Chānda",
                    19.95,
                    79.3
                  ],
                  [
                    "Dehra Dūn",
                    30.318,
                    78.029
                  ],
                  [
                    "Durgāpur",
                    23.55,
                    87.32
                  ],
                  [
                    "Āsansol",
                    23.6833,
                    86.9667
                  ],
                  [
                    "Bhāvnagar",
                    21.765,
                    72.1369
                  ],
                  [
                    "Amrāvati",
                    20.9333,
                    77.75
                  ],
                  [
                    "Nellore",
                    14.4333,
                    79.9667
                  ],
                  [
                    "Ajmer",
                    26.468,
                    74.639
                  ],
                  [
                    "Tinnevelly",
                    8.7289,
                    77.7081
                  ],
                  [
                    "Bīkaner",
                    28.0181,
                    73.3169
                  ],
                  [
                    "Agartala",
                    23.8333,
                    91.2667
                  ],
                  [
                    "Ujjain",
                    23.1828,
                    75.7772
                  ],
                  [
                    "Jhānsi",
                    25.4486,
                    78.5696
                  ],
                  [
                    "Ulhāsnagar",
                    19.2167,
                    73.15
                  ],
                  [
                    "Davangere",
                    14.4667,
                    75.9167
                  ],
                  [
                    "Jammu",
                    32.7333,
                    74.85
                  ],
                  [
                    "Belgaum",
                    15.8667,
                    74.5
                  ],
                  [
                    "Gulbarga",
                    17.3333,
                    76.8333
                  ],
                  [
                    "Jāmnagar",
                    22.47,
                    70.07
                  ],
                  [
                    "Dhūlia",
                    20.9,
                    74.7833
                  ],
                  [
                    "Gaya",
                    24.75,
                    85.0167
                  ],
                  [
                    "Jalgaon",
                    21.0167,
                    75.5667
                  ],
                  [
                    "Kurnool",
                    15.8222,
                    78.035
                  ],
                  [
                    "Udaipur",
                    24.5833,
                    73.6833
                  ],
                  [
                    "Bellary",
                    15.15,
                    76.915
                  ],
                  [
                    "Sāngli",
                    16.8667,
                    74.5667
                  ],
                  [
                    "Tuticorin",
                    8.7833,
                    78.1333
                  ],
                  [
                    "Calicut",
                    11.25,
                    75.7667
                  ],
                  [
                    "Akola",
                    20.7333,
                    77
                  ],
                  [
                    "Bhāgalpur",
                    25.25,
                    87.0167
                  ],
                  [
                    "Sīkar",
                    27.6119,
                    75.1397
                  ],
                  [
                    "Tumkūr",
                    13.33,
                    77.1
                  ],
                  [
                    "Quilon",
                    8.8853,
                    76.5864
                  ],
                  [
                    "Muzaffarnagar",
                    29.4708,
                    77.7033
                  ],
                  [
                    "Bhīlwāra",
                    25.35,
                    74.6333
                  ],
                  [
                    "Nizāmābād",
                    18.6704,
                    78.1
                  ],
                  [
                    "Bhātpāra",
                    22.8667,
                    88.4167
                  ],
                  [
                    "Kākināda",
                    16.9333,
                    82.2167
                  ],
                  [
                    "Parbhani",
                    19.2704,
                    76.76
                  ],
                  [
                    "Pānihāti",
                    22.69,
                    88.37
                  ],
                  [
                    "Lātūr",
                    18.4004,
                    76.57
                  ],
                  [
                    "Rohtak",
                    28.9,
                    76.5667
                  ],
                  [
                    "Rājapālaiyam",
                    9.4204,
                    77.58
                  ],
                  [
                    "Ahmadnagar",
                    19.0833,
                    74.7333
                  ],
                  [
                    "Cuddapah",
                    14.4667,
                    78.8167
                  ],
                  [
                    "Rājahmundry",
                    16.9833,
                    81.7833
                  ],
                  [
                    "Alwar",
                    27.5667,
                    76.6167
                  ],
                  [
                    "Muzaffarpur",
                    26.12,
                    85.3833
                  ],
                  [
                    "Bilāspur",
                    22.15,
                    82.0167
                  ],
                  [
                    "Mathura",
                    27.4833,
                    77.6833
                  ],
                  [
                    "Kāmārhāti",
                    22.67,
                    88.37
                  ],
                  [
                    "Patiāla",
                    30.3204,
                    76.385
                  ],
                  [
                    "Saugor",
                    23.8504,
                    78.75
                  ],
                  [
                    "Bijāpur",
                    16.8244,
                    75.7154
                  ],
                  [
                    "Brahmapur",
                    19.32,
                    84.8
                  ],
                  [
                    "Shāhjānpur",
                    27.8804,
                    79.905
                  ],
                  [
                    "Trichūr",
                    10.52,
                    76.21
                  ],
                  [
                    "Barddhamān",
                    23.25,
                    87.85
                  ],
                  [
                    "Kulti",
                    23.73,
                    86.85
                  ],
                  [
                    "Sambalpur",
                    21.4704,
                    83.9701
                  ],
                  [
                    "Purnea",
                    25.78,
                    87.47
                  ],
                  [
                    "Hisar",
                    29.1489,
                    75.7367
                  ],
                  [
                    "Fīrozābād",
                    27.15,
                    78.3949
                  ],
                  [
                    "Bīdar",
                    17.9229,
                    77.5175
                  ],
                  [
                    "Rāmpur",
                    28.8154,
                    79.025
                  ],
                  [
                    "Shiliguri",
                    26.72,
                    88.42
                  ],
                  [
                    "Bāli",
                    22.65,
                    88.34
                  ],
                  [
                    "Pānīpat",
                    29.4004,
                    76.97
                  ],
                  [
                    "Karīmnagar",
                    18.4333,
                    79.15
                  ],
                  [
                    "Bhuj",
                    23.2504,
                    69.81
                  ],
                  [
                    "Ichalkaranji",
                    16.7,
                    74.47
                  ],
                  [
                    "Tirupati",
                    13.65,
                    79.42
                  ],
                  [
                    "Hospet",
                    15.2667,
                    76.4
                  ],
                  [
                    "Āīzawl",
                    23.7104,
                    92.72
                  ],
                  [
                    "Sannai",
                    24.16,
                    80.83
                  ],
                  [
                    "Bārāsat",
                    22.2333,
                    88.45
                  ],
                  [
                    "Ratlām",
                    23.3167,
                    75.0667
                  ],
                  [
                    "Handwāra",
                    34.4,
                    74.28
                  ],
                  [
                    "Drug",
                    21.19,
                    81.28
                  ],
                  [
                    "Imphāl",
                    24.82,
                    93.95
                  ],
                  [
                    "Anantapur",
                    14.6833,
                    77.6
                  ],
                  [
                    "Etāwah",
                    26.7855,
                    79.015
                  ],
                  [
                    "Rāichūr",
                    16.2104,
                    77.355
                  ],
                  [
                    "Ongole",
                    15.5,
                    80.05
                  ],
                  [
                    "Bharatpur",
                    27.2172,
                    77.49
                  ],
                  [
                    "Begusarai",
                    25.42,
                    86.13
                  ],
                  [
                    "Sonīpat",
                    28.9958,
                    77.0114
                  ],
                  [
                    "Rāmgundam",
                    18.8,
                    79.45
                  ],
                  [
                    "Hāpur",
                    28.7437,
                    77.7628
                  ],
                  [
                    "Uluberiya",
                    22.47,
                    88.11
                  ],
                  [
                    "Porbandar",
                    21.6425,
                    69.6047
                  ],
                  [
                    "Pāli",
                    25.7725,
                    73.3233
                  ],
                  [
                    "Vizianagaram",
                    18.1167,
                    83.4167
                  ],
                  [
                    "Puducherry",
                    11.93,
                    79.83
                  ],
                  [
                    "Karnāl",
                    29.6804,
                    76.97
                  ],
                  [
                    "Nāgercoil",
                    8.17,
                    77.43
                  ],
                  [
                    "Tanjore",
                    10.8,
                    79.15
                  ],
                  [
                    "Sambhal",
                    28.58,
                    78.55
                  ],
                  [
                    "Shimla",
                    31.1033,
                    77.1722
                  ],
                  [
                    "Ghāndīnagar",
                    23.22,
                    72.68
                  ],
                  [
                    "Shillong",
                    25.5744,
                    91.8789
                  ],
                  [
                    "New Delhi",
                    28.7,
                    77.2
                  ],
                  [
                    "Port Blair",
                    11.6667,
                    92.75
                  ],
                  [
                    "Gangtok",
                    27.33,
                    88.62
                  ],
                  [
                    "Kohīma",
                    25.6667,
                    94.1194
                  ],
                  [
                    "Itānagar",
                    27.1,
                    93.62
                  ],
                  [
                    "Panaji",
                    15.48,
                    73.83
                  ],
                  [
                    "Damān",
                    20.417,
                    72.85
                  ],
                  [
                    "Kavaratti",
                    10.5626,
                    72.6369
                  ],
                  [
                    "Panchkula",
                    30.6915,
                    76.8537
                  ],
                  [
                    "Kagaznāgār",
                    19.3316,
                    79.4661
                  ],
                  [
                    "Bengaluru",
                    12.9716,
                    77.5946
                  ]
                ]
              },
              "all_features": {
                "index": [
                  0
                ],
                "columns": [
                  "Rider_ID",
                  "Route"
                ],
                "data": [
                  [
                    0,
                    [
                      "Kolkata",
                      "Uluberiya",
                      "Bārāsat",
                      "Agartala",
                      "Āīzawl",
                      "Imphāl",
                      "Kohīma",
                      "Itānagar",
                      "Shillong",
                      "Dispur",
                      "Guwahati",
                      "Gangtok",
                      "Shiliguri",
                      "Purnea",
                      "Bhāgalpur",
                      "Begusarai",
                      "Muzaffarpur",
                      "Patna",
                      "Gaya",
                      "Ranchi",
                      "Raurkela",
                      "Sambalpur",
                      "Bilāspur",
                      "Raipur",
                      "Bhilai",
                      "Drug",
                      "Jabalpur",
                      "Sannai",
                      "Allahabad",
                      "Mirzapur",
                      "Varanasi",
                      "Gorakhpur",
                      "Lucknow",
                      "Cawnpore",
                      "Etāwah",
                      "Fīrozābād",
                      "Agra",
                      "Bharatpur",
                      "Mathura",
                      "Aligarh",
                      "Shāhjānpur",
                      "Bareilly",
                      "Rāmpur",
                      "Moradabad",
                      "Sambhal",
                      "Hāpur",
                      "Meerut",
                      "Muzaffarnagar",
                      "Pānīpat",
                      "Karnāl",
                      "Sahāranpur",
                      "Dehra Dūn",
                      "Panchkula",
                      "Chandigarh",
                      "Shimla",
                      "Srinagar",
                      "Handwāra",
                      "Jammu",
                      "Amritsar",
                      "Jalandhar",
                      "Ludhiāna",
                      "Patiāla",
                      "Hisar",
                      "Rohtak",
                      "Sonīpat",
                      "New Delhi",
                      "Delhi",
                      "Ghaziabad",
                      "Faridabad",
                      "Alwar",
                      "Sīkar",
                      "Bīkaner",
                      "Jodhpur",
                      "Pāli",
                      "Udaipur",
                      "Bhīlwāra",
                      "Kota",
                      "Ajmer",
                      "Jaipur",
                      "Gwalior",
                      "Jhānsi",
                      "Saugor",
                      "Bhopal",
                      "Ujjain",
                      "Ratlām",
                      "Indore",
                      "Jalgaon",
                      "Dhūlia",
                      "Mālegaon",
                      "Vadodara",
                      "Ahmadabad",
                      "Ghāndīnagar",
                      "Bhuj",
                      "Jāmnagar",
                      "Porbandar",
                      "Rajkot",
                      "Bhāvnagar",
                      "Surat",
                      "Damān",
                      "Nashik",
                      "Bhayandar",
                      "Mumbai",
                      "Thane",
                      "Bhiwandi",
                      "Kalyan",
                      "Ulhāsnagar",
                      "Chinchvad",
                      "Pune",
                      "Ahmadnagar",
                      "Aurangabad",
                      "Akola",
                      "Amrāvati",
                      "Nagpur",
                      "Chānda",
                      "Kagaznāgār",
                      "Rāmgundam",
                      "Karīmnagar",
                      "Warangal",
                      "Hyderabad",
                      "Bīdar",
                      "Nizāmābād",
                      "Nānded",
                      "Parbhani",
                      "Lātūr",
                      "Gulbarga",
                      "Solapur",
                      "Bijāpur",
                      "Sāngli",
                      "Ichalkaranji",
                      "Kolhāpur",
                      "Panaji",
                      "Belgaum",
                      "Hubli",
                      "Shimoga",
                      "Davangere",
                      "Hospet",
                      "Bellary",
                      "Rāichūr",
                      "Kurnool",
                      "Anantapur",
                      "Tumkūr",
                      "Bangalore",
                      "Bengaluru",
                      "Mysore",
                      "Mangalore",
                      "Kavaratti",
                      "Calicut",
                      "Trichūr",
                      "Kochi",
                      "Quilon",
                      "Thiruvananthapuram",
                      "Nāgercoil",
                      "Tinnevelly",
                      "Tuticorin",
                      "Rājapālaiyam",
                      "Madurai",
                      "Coimbatore",
                      "Tiruppūr",
                      "Salem",
                      "Trichinopoly",
                      "Tanjore",
                      "Puducherry",
                      "Chennai",
                      "Tirupati",
                      "Cuddapah",
                      "Nellore",
                      "Ongole",
                      "Guntūr",
                      "Bezwada",
                      "Rājahmundry",
                      "Kākināda",
                      "Visakhapatnam",
                      "Vizianagaram",
                      "Port Blair",
                      "Brahmapur",
                      "Bhubaneshwar",
                      "Cuttack",
                      "Jamshedpur",
                      "Dhanbad",
                      "Kulti",
                      "Āsansol",
                      "Durgāpur",
                      "Barddhamān",
                      "Bhātpāra",
                      "Pānihāti",
                      "Kāmārhāti",
                      "Bāli",
                      "Haora",
                      "Kolkata"
                    ]
                  ]
                ]
              }
            },
            "height": 400,
            "layout": "IPY_MODEL_671661ad03354d0db04045edf3733c95",
            "value": "Hello World!"
          }
        },
        "671661ad03354d0db04045edf3733c95": {
          "model_module": "@jupyter-widgets/base",
          "model_name": "LayoutModel",
          "model_module_version": "1.2.0",
          "state": {
            "_model_module": "@jupyter-widgets/base",
            "_model_module_version": "1.2.0",
            "_model_name": "LayoutModel",
            "_view_count": null,
            "_view_module": "@jupyter-widgets/base",
            "_view_module_version": "1.2.0",
            "_view_name": "LayoutView",
            "align_content": null,
            "align_items": null,
            "align_self": null,
            "border": null,
            "bottom": null,
            "display": null,
            "flex": null,
            "flex_flow": null,
            "grid_area": null,
            "grid_auto_columns": null,
            "grid_auto_flow": null,
            "grid_auto_rows": null,
            "grid_column": null,
            "grid_gap": null,
            "grid_row": null,
            "grid_template_areas": null,
            "grid_template_columns": null,
            "grid_template_rows": null,
            "height": null,
            "justify_content": null,
            "justify_items": null,
            "left": null,
            "margin": null,
            "max_height": null,
            "max_width": null,
            "min_height": null,
            "min_width": null,
            "object_fit": null,
            "object_position": null,
            "order": null,
            "overflow": null,
            "overflow_x": null,
            "overflow_y": null,
            "padding": null,
            "right": null,
            "top": null,
            "visibility": null,
            "width": null
          }
        }
      }
    }
  },
  "cells": [
    {
      "cell_type": "markdown",
      "metadata": {
        "id": "view-in-github",
        "colab_type": "text"
      },
      "source": [
        "<a href=\"https://colab.research.google.com/github/paulsiddhartha0/travelling_salesman_problem/blob/main/TSP_Plotting.ipynb\" target=\"_parent\"><img src=\"https://colab.research.google.com/assets/colab-badge.svg\" alt=\"Open In Colab\"/></a>"
      ]
    },
    {
      "cell_type": "code",
      "execution_count": null,
      "metadata": {
        "colab": {
          "base_uri": "https://localhost:8080/"
        },
        "id": "nYN9aszITGUi",
        "outputId": "294a2177-2774-4207-85e7-72db6ceb8988"
      },
      "outputs": [
        {
          "output_type": "stream",
          "name": "stdout",
          "text": [
            "Looking in indexes: https://pypi.org/simple, https://us-python.pkg.dev/colab-wheels/public/simple/\n",
            "Collecting ortools\n",
            "  Downloading ortools-9.4.1874-cp37-cp37m-manylinux_2_17_x86_64.manylinux2014_x86_64.whl (16.0 MB)\n",
            "\u001b[K     |████████████████████████████████| 16.0 MB 33.3 MB/s \n",
            "\u001b[?25hRequirement already satisfied: numpy>=1.13.3 in /usr/local/lib/python3.7/dist-packages (from ortools) (1.21.6)\n",
            "Collecting protobuf>=3.19.4\n",
            "  Downloading protobuf-4.21.9-cp37-abi3-manylinux2014_x86_64.whl (408 kB)\n",
            "\u001b[K     |████████████████████████████████| 408 kB 76.2 MB/s \n",
            "\u001b[?25hRequirement already satisfied: absl-py>=0.13 in /usr/local/lib/python3.7/dist-packages (from ortools) (1.3.0)\n",
            "Installing collected packages: protobuf, ortools\n",
            "  Attempting uninstall: protobuf\n",
            "    Found existing installation: protobuf 3.17.3\n",
            "    Uninstalling protobuf-3.17.3:\n",
            "      Successfully uninstalled protobuf-3.17.3\n",
            "\u001b[31mERROR: pip's dependency resolver does not currently take into account all the packages that are installed. This behaviour is the source of the following dependency conflicts.\n",
            "tensorflow 2.9.2 requires protobuf<3.20,>=3.9.2, but you have protobuf 4.21.9 which is incompatible.\n",
            "tensorflow-metadata 1.10.0 requires protobuf<4,>=3.13, but you have protobuf 4.21.9 which is incompatible.\n",
            "tensorboard 2.9.1 requires protobuf<3.20,>=3.9.2, but you have protobuf 4.21.9 which is incompatible.\n",
            "google-cloud-bigquery-storage 1.1.2 requires protobuf<4.0.0dev, but you have protobuf 4.21.9 which is incompatible.\n",
            "google-api-core 1.31.6 requires protobuf<4.0.0dev,>=3.12.0; python_version > \"3\", but you have protobuf 4.21.9 which is incompatible.\u001b[0m\n",
            "Successfully installed ortools-9.4.1874 protobuf-4.21.9\n"
          ]
        }
      ],
      "source": [
        "!pip install ortools"
      ]
    },
    {
      "cell_type": "code",
      "source": [
        "!pip install xlsxwriter"
      ],
      "metadata": {
        "colab": {
          "base_uri": "https://localhost:8080/"
        },
        "id": "W1AdgtNzTfil",
        "outputId": "6d46128b-26d9-42a2-e385-4427e7addab3"
      },
      "execution_count": null,
      "outputs": [
        {
          "output_type": "stream",
          "name": "stdout",
          "text": [
            "Looking in indexes: https://pypi.org/simple, https://us-python.pkg.dev/colab-wheels/public/simple/\n",
            "Collecting xlsxwriter\n",
            "  Downloading XlsxWriter-3.0.3-py3-none-any.whl (149 kB)\n",
            "\u001b[K     |████████████████████████████████| 149 kB 36.4 MB/s \n",
            "\u001b[?25hInstalling collected packages: xlsxwriter\n",
            "Successfully installed xlsxwriter-3.0.3\n"
          ]
        }
      ]
    },
    {
      "cell_type": "code",
      "source": [
        "import pandas as pd\n",
        "from math import cos, asin, sqrt\n",
        "from ortools.constraint_solver import routing_enums_pb2\n",
        "from ortools.constraint_solver import pywrapcp\n",
        "import xlsxwriter\n",
        "from collections import defaultdict"
      ],
      "metadata": {
        "id": "Q8oGZwBKTPQb"
      },
      "execution_count": null,
      "outputs": []
    },
    {
      "cell_type": "code",
      "source": [
        "def DistanceMatrix(x1, y1, x2, y2):\n",
        "    p = 0.017453292519943295     #Pi/180\n",
        "    a = 0.5 - cos((x2 - x1) * p)/2 + cos(x1 * p) * cos(x2 * p) * (1 - cos((y2 - y1) * p)) / 2\n",
        "    return 12742 * asin(sqrt(a))"
      ],
      "metadata": {
        "id": "tPFkhJwhTVa7"
      },
      "execution_count": null,
      "outputs": []
    },
    {
      "cell_type": "code",
      "source": [
        "import pandas as pd\n",
        "df = pd.read_csv('India Cities LatLng.csv')\n",
        "df = df[df.city!= 'Kolkata']\n",
        "cities_lat_dict = df[['city', 'lat']].set_index('city')['lat'].to_dict()\n",
        "cities_lng_dict = df[['city', 'lng']].set_index('city')['lng'].to_dict()"
      ],
      "metadata": {
        "id": "GN0ZIH4BTqnt"
      },
      "execution_count": null,
      "outputs": []
    },
    {
      "cell_type": "code",
      "source": [
        "def create_data_model():\n",
        "  nodes = [0] ## initializing with the depot node as 0\n",
        "  lat = {}\n",
        "  lng = {}\n",
        "  original_id_dict = {}\n",
        "\n",
        "  depot_node = [0]\n",
        "  original_id_dict[0] = 'Kolkata'\n",
        "  lat[0] = 22.5411\n",
        "  lng[0] = 88.3378\n",
        "\n",
        "\n",
        "  cust_loc = 1\n",
        "  for city in cities_lat_dict.keys():\n",
        "    lat[cust_loc] = cities_lat_dict[city]\n",
        "    lng[cust_loc] = cities_lng_dict[city]\n",
        "    original_id_dict[cust_loc] = city\n",
        "    nodes.append(cust_loc)\n",
        "    cust_loc +=1\n",
        "\n",
        "  location = {} \n",
        "  distance = {}\n",
        "  for from_node in nodes:\n",
        "    location[from_node] = (lat[from_node], lng[from_node])\n",
        "    distance[from_node] = {}\n",
        "    for to_node in nodes:\n",
        "        distance[from_node][to_node] = DistanceMatrix(lat[from_node], lng[from_node],\n",
        "                                          lat[to_node], lng[to_node])\n",
        "        \n",
        "  data = {}\n",
        "  data[\"locations\"] = location\n",
        "  data[\"num_locations\"] = len(data[\"locations\"])\n",
        "  data[\"num_vehicles\"] = 1\n",
        "  data[\"depot\"] = 0\n",
        "  data[\"distance_matrix\"] = distance\n",
        "  data[\"original_id_dict\"] = original_id_dict\n",
        "  return data\n",
        "\n",
        "\n",
        "\n"
      ],
      "metadata": {
        "id": "qaBTfG6NTYIe"
      },
      "execution_count": null,
      "outputs": []
    },
    {
      "cell_type": "code",
      "source": [
        "def print_solution(data, manager, routing, solution):\n",
        "    \"\"\"Prints solution on console.\"\"\"\n",
        "    print(f'Objective: {solution.ObjectiveValue()}')\n",
        "    total_distance = 0\n",
        "    total_nodes_visited = 0\n",
        "    route_batch_info = defaultdict(list)\n",
        "    for vehicle_id in range(data['num_vehicles']):\n",
        "        index = routing.Start(vehicle_id)\n",
        "        plan_output = 'Route for vehicle {}:\\n'.format(vehicle_id)\n",
        "        route_distance = 0\n",
        "        while not routing.IsEnd(index):\n",
        "            node_index = manager.IndexToNode(index)\n",
        "            plan_output += ' {} -> '.format(data[\"original_id_dict\"][node_index])\n",
        "            previous_index = index\n",
        "            index = solution.Value(routing.NextVar(index))\n",
        "            route_distance += routing.GetArcCostForVehicle(\n",
        "                previous_index, index, vehicle_id)\n",
        "            if node_index != 0:\n",
        "                total_nodes_visited += 1\n",
        "            route_batch_info[vehicle_id].append(data[\"original_id_dict\"][node_index])\n",
        "        node_index = manager.IndexToNode(index)\n",
        "        plan_output += '{}\\n'.format(data[\"original_id_dict\"][node_index])\n",
        "        plan_output += 'Distance of the route: {}m\\n'.format(route_distance)\n",
        "        route_batch_info[vehicle_id].append(data[\"original_id_dict\"][node_index])\n",
        "\n",
        "        if route_distance > 0:\n",
        "            print(plan_output)\n",
        "            total_distance += route_distance\n",
        "    print('Total Distance of all routes: {}KM'.format(total_distance))\n",
        "    print('\\n Cities not visited = ', len(data['locations']) - total_nodes_visited-1 )\n",
        "\n",
        "    workbook = xlsxwriter.Workbook('{}.xlsx'.format('route_plot'))\n",
        "\n",
        "    worksheet = workbook.add_worksheet('Route_Info_Plot')\n",
        "    merge_format = workbook.add_format({\n",
        "        'bold': True,\n",
        "        'align': 'center',\n",
        "    })\n",
        "    format_c = workbook.add_format({'align': 'center'})\n",
        "    worksheet.write(0, 0, 'Rider_ID', merge_format)\n",
        "    worksheet.write(0, 1, 'Route', merge_format)\n",
        "\n",
        "    row = 1\n",
        "    worksheet.write(row, 0, 0, format_c)\n",
        "    worksheet.write(row, 1, str(route_batch_info[0]), format_c)\n",
        "\n",
        "\n",
        "\n",
        "    worksheet = workbook.add_worksheet('Cities_lat_long')\n",
        "    merge_format = workbook.add_format({\n",
        "        'bold': True,\n",
        "        'align': 'center',\n",
        "    })\n",
        "    format_c = workbook.add_format({'align': 'center'})\n",
        "    worksheet.write(0, 0, 'id', merge_format)\n",
        "    worksheet.write(0, 1, 'lat', merge_format)\n",
        "    worksheet.write(0, 2, 'long', merge_format)\n",
        "    row = 1\n",
        "    for i in data['locations'].keys():\n",
        "        # if len(route_info_plot[b]) > 2:\n",
        "        worksheet.write(row, 0, data['original_id_dict'][i], format_c)\n",
        "        worksheet.write(row, 1, data['locations'][i][0], format_c)\n",
        "        worksheet.write(row, 2, data['locations'][i][1], format_c)\n",
        "        row = row + 1\n",
        "\n",
        "    workbook.close()"
      ],
      "metadata": {
        "id": "iLiFDLQCTO9q"
      },
      "execution_count": null,
      "outputs": []
    },
    {
      "cell_type": "code",
      "source": [
        "def main():\n",
        "    \"\"\"Entry point of the program.\"\"\"\n",
        "    # Instantiate the data problem.\n",
        "    data = create_data_model()\n",
        "\n",
        "    # Create the routing index manager.\n",
        "    manager = pywrapcp.RoutingIndexManager(len(data['distance_matrix']),\n",
        "                                           data['num_vehicles'], data['depot'])\n",
        "\n",
        "    # Create Routing Model.\n",
        "    routing = pywrapcp.RoutingModel(manager)\n",
        "\n",
        "\n",
        "    # Define cost of each arc.\n",
        "    def distance_callback(from_index, to_index):\n",
        "        \"\"\"Returns the manhattan distance between the two nodes.\"\"\"\n",
        "        # Convert from routing variable Index to distance matrix NodeIndex.\n",
        "        from_node = manager.IndexToNode(from_index)\n",
        "        to_node = manager.IndexToNode(to_index)\n",
        "        return data['distance_matrix'][from_node][to_node]\n",
        "\n",
        "    transit_callback_index = routing.RegisterTransitCallback(distance_callback)\n",
        "    routing.SetArcCostEvaluatorOfAllVehicles(transit_callback_index)\n",
        "\n",
        "    # Setting first solution heuristic.\n",
        "    search_parameters = pywrapcp.DefaultRoutingSearchParameters()\n",
        "    search_parameters.first_solution_strategy = (\n",
        "        routing_enums_pb2.FirstSolutionStrategy.PARALLEL_CHEAPEST_INSERTION)\n",
        "\n",
        "    # Improve the initial solution by a meta-heuristic algorithm\n",
        "\n",
        "    search_parameters.local_search_metaheuristic = (\n",
        "        routing_enums_pb2.LocalSearchMetaheuristic.GUIDED_LOCAL_SEARCH)\n",
        "    # search_parameters.time_limit.FromSeconds(10)\n",
        "    search_parameters.time_limit.seconds = 50\n",
        "    search_parameters.log_search = True\n",
        "\n",
        "    # Solve the problem.\n",
        "    solution = routing.SolveWithParameters(search_parameters)\n",
        "\n",
        "    # Print solution on console.\n",
        "    if solution:\n",
        "        print_solution(data, manager, routing, solution)"
      ],
      "metadata": {
        "id": "0wRI4QXCTxZT"
      },
      "execution_count": null,
      "outputs": []
    },
    {
      "cell_type": "code",
      "source": [
        "if __name__ == '__main__':\n",
        "    main()"
      ],
      "metadata": {
        "colab": {
          "base_uri": "https://localhost:8080/"
        },
        "id": "RITSE0OlT3z7",
        "outputId": "1857c0aa-8ac4-407b-b7b0-c811717fcc86"
      },
      "execution_count": null,
      "outputs": [
        {
          "output_type": "stream",
          "name": "stdout",
          "text": [
            "Objective: 21494\n",
            "Route for vehicle 0:\n",
            " Kolkata ->  Uluberiya ->  Bārāsat ->  Agartala ->  Āīzawl ->  Imphāl ->  Kohīma ->  Itānagar ->  Shillong ->  Dispur ->  Guwahati ->  Gangtok ->  Shiliguri ->  Purnea ->  Bhāgalpur ->  Begusarai ->  Muzaffarpur ->  Patna ->  Gaya ->  Ranchi ->  Raurkela ->  Sambalpur ->  Bilāspur ->  Raipur ->  Bhilai ->  Drug ->  Jabalpur ->  Sannai ->  Allahabad ->  Mirzapur ->  Varanasi ->  Gorakhpur ->  Lucknow ->  Cawnpore ->  Etāwah ->  Fīrozābād ->  Agra ->  Bharatpur ->  Mathura ->  Aligarh ->  Shāhjānpur ->  Bareilly ->  Rāmpur ->  Moradabad ->  Sambhal ->  Hāpur ->  Meerut ->  Muzaffarnagar ->  Pānīpat ->  Karnāl ->  Sahāranpur ->  Dehra Dūn ->  Panchkula ->  Chandigarh ->  Shimla ->  Srinagar ->  Handwāra ->  Jammu ->  Amritsar ->  Jalandhar ->  Ludhiāna ->  Patiāla ->  Hisar ->  Rohtak ->  Sonīpat ->  New Delhi ->  Delhi ->  Ghaziabad ->  Faridabad ->  Alwar ->  Sīkar ->  Bīkaner ->  Jodhpur ->  Pāli ->  Udaipur ->  Bhīlwāra ->  Kota ->  Ajmer ->  Jaipur ->  Gwalior ->  Jhānsi ->  Saugor ->  Bhopal ->  Ujjain ->  Ratlām ->  Indore ->  Jalgaon ->  Dhūlia ->  Mālegaon ->  Vadodara ->  Ahmadabad ->  Ghāndīnagar ->  Bhuj ->  Jāmnagar ->  Porbandar ->  Rajkot ->  Bhāvnagar ->  Surat ->  Damān ->  Nashik ->  Bhayandar ->  Mumbai ->  Thane ->  Bhiwandi ->  Kalyan ->  Ulhāsnagar ->  Chinchvad ->  Pune ->  Ahmadnagar ->  Aurangabad ->  Akola ->  Amrāvati ->  Nagpur ->  Chānda ->  Kagaznāgār ->  Rāmgundam ->  Karīmnagar ->  Warangal ->  Hyderabad ->  Bīdar ->  Nizāmābād ->  Nānded ->  Parbhani ->  Lātūr ->  Gulbarga ->  Solapur ->  Bijāpur ->  Sāngli ->  Ichalkaranji ->  Kolhāpur ->  Panaji ->  Belgaum ->  Hubli ->  Shimoga ->  Davangere ->  Hospet ->  Bellary ->  Rāichūr ->  Kurnool ->  Anantapur ->  Tumkūr ->  Bangalore ->  Bengaluru ->  Mysore ->  Mangalore ->  Kavaratti ->  Calicut ->  Trichūr ->  Kochi ->  Quilon ->  Thiruvananthapuram ->  Nāgercoil ->  Tinnevelly ->  Tuticorin ->  Rājapālaiyam ->  Madurai ->  Coimbatore ->  Tiruppūr ->  Salem ->  Trichinopoly ->  Tanjore ->  Puducherry ->  Chennai ->  Tirupati ->  Cuddapah ->  Nellore ->  Ongole ->  Guntūr ->  Bezwada ->  Rājahmundry ->  Kākināda ->  Visakhapatnam ->  Vizianagaram ->  Port Blair ->  Brahmapur ->  Bhubaneshwar ->  Cuttack ->  Jamshedpur ->  Dhanbad ->  Kulti ->  Āsansol ->  Durgāpur ->  Barddhamān ->  Bhātpāra ->  Pānihāti ->  Kāmārhāti ->  Bāli ->  Haora -> Kolkata\n",
            "Distance of the route: 21494m\n",
            "\n",
            "Total Distance of all routes: 21494KM\n",
            "\n",
            " Cities not visited =  0\n"
          ]
        }
      ]
    },
    {
      "cell_type": "markdown",
      "source": [
        "# Plotting in Kepler GL"
      ],
      "metadata": {
        "id": "aSL9BmmHejzd"
      }
    },
    {
      "cell_type": "code",
      "source": [
        "!pip install keplergl"
      ],
      "metadata": {
        "colab": {
          "base_uri": "https://localhost:8080/"
        },
        "id": "_8Mdej_QfBMt",
        "outputId": "8cc6a47f-959d-416e-9737-7110d9f70a87"
      },
      "execution_count": null,
      "outputs": [
        {
          "output_type": "stream",
          "name": "stdout",
          "text": [
            "Looking in indexes: https://pypi.org/simple, https://us-python.pkg.dev/colab-wheels/public/simple/\n",
            "Collecting keplergl\n",
            "  Downloading keplergl-0.3.2.tar.gz (9.7 MB)\n",
            "\u001b[K     |████████████████████████████████| 9.7 MB 37.7 MB/s \n",
            "\u001b[?25h  Installing build dependencies ... \u001b[?25l\u001b[?25hdone\n",
            "  Getting requirements to build wheel ... \u001b[?25l\u001b[?25hdone\n",
            "    Preparing wheel metadata ... \u001b[?25l\u001b[?25hdone\n",
            "Collecting traittypes>=0.2.1\n",
            "  Downloading traittypes-0.2.1-py2.py3-none-any.whl (8.6 kB)\n",
            "Requirement already satisfied: pandas>=0.23.0 in /usr/local/lib/python3.7/dist-packages (from keplergl) (1.3.5)\n",
            "Collecting geopandas>=0.5.0\n",
            "  Downloading geopandas-0.10.2-py2.py3-none-any.whl (1.0 MB)\n",
            "\u001b[K     |████████████████████████████████| 1.0 MB 59.8 MB/s \n",
            "\u001b[?25hRequirement already satisfied: Shapely>=1.6.4.post2 in /usr/local/lib/python3.7/dist-packages (from keplergl) (1.8.5.post1)\n",
            "Requirement already satisfied: ipywidgets<8,>=7.0.0 in /usr/local/lib/python3.7/dist-packages (from keplergl) (7.7.1)\n",
            "Collecting fiona>=1.8\n",
            "  Downloading Fiona-1.8.22-cp37-cp37m-manylinux2014_x86_64.whl (16.7 MB)\n",
            "\u001b[K     |████████████████████████████████| 16.7 MB 70.7 MB/s \n",
            "\u001b[?25hCollecting pyproj>=2.2.0\n",
            "  Downloading pyproj-3.2.1-cp37-cp37m-manylinux2010_x86_64.whl (6.3 MB)\n",
            "\u001b[K     |████████████████████████████████| 6.3 MB 55.8 MB/s \n",
            "\u001b[?25hCollecting click-plugins>=1.0\n",
            "  Downloading click_plugins-1.1.1-py2.py3-none-any.whl (7.5 kB)\n",
            "Requirement already satisfied: certifi in /usr/local/lib/python3.7/dist-packages (from fiona>=1.8->geopandas>=0.5.0->keplergl) (2022.9.24)\n",
            "Collecting cligj>=0.5\n",
            "  Downloading cligj-0.7.2-py3-none-any.whl (7.1 kB)\n",
            "Requirement already satisfied: attrs>=17 in /usr/local/lib/python3.7/dist-packages (from fiona>=1.8->geopandas>=0.5.0->keplergl) (22.1.0)\n",
            "Collecting munch\n",
            "  Downloading munch-2.5.0-py2.py3-none-any.whl (10 kB)\n",
            "Requirement already satisfied: click>=4.0 in /usr/local/lib/python3.7/dist-packages (from fiona>=1.8->geopandas>=0.5.0->keplergl) (7.1.2)\n",
            "Requirement already satisfied: setuptools in /usr/local/lib/python3.7/dist-packages (from fiona>=1.8->geopandas>=0.5.0->keplergl) (57.4.0)\n",
            "Requirement already satisfied: six>=1.7 in /usr/local/lib/python3.7/dist-packages (from fiona>=1.8->geopandas>=0.5.0->keplergl) (1.15.0)\n",
            "Requirement already satisfied: traitlets>=4.3.1 in /usr/local/lib/python3.7/dist-packages (from ipywidgets<8,>=7.0.0->keplergl) (5.1.1)\n",
            "Requirement already satisfied: ipython-genutils~=0.2.0 in /usr/local/lib/python3.7/dist-packages (from ipywidgets<8,>=7.0.0->keplergl) (0.2.0)\n",
            "Requirement already satisfied: jupyterlab-widgets>=1.0.0 in /usr/local/lib/python3.7/dist-packages (from ipywidgets<8,>=7.0.0->keplergl) (3.0.3)\n",
            "Requirement already satisfied: widgetsnbextension~=3.6.0 in /usr/local/lib/python3.7/dist-packages (from ipywidgets<8,>=7.0.0->keplergl) (3.6.1)\n",
            "Requirement already satisfied: ipykernel>=4.5.1 in /usr/local/lib/python3.7/dist-packages (from ipywidgets<8,>=7.0.0->keplergl) (5.3.4)\n",
            "Requirement already satisfied: ipython>=4.0.0 in /usr/local/lib/python3.7/dist-packages (from ipywidgets<8,>=7.0.0->keplergl) (7.9.0)\n",
            "Requirement already satisfied: tornado>=4.2 in /usr/local/lib/python3.7/dist-packages (from ipykernel>=4.5.1->ipywidgets<8,>=7.0.0->keplergl) (5.1.1)\n",
            "Requirement already satisfied: jupyter-client in /usr/local/lib/python3.7/dist-packages (from ipykernel>=4.5.1->ipywidgets<8,>=7.0.0->keplergl) (6.1.12)\n",
            "Collecting jedi>=0.10\n",
            "  Using cached jedi-0.18.1-py2.py3-none-any.whl (1.6 MB)\n",
            "Requirement already satisfied: pygments in /usr/local/lib/python3.7/dist-packages (from ipython>=4.0.0->ipywidgets<8,>=7.0.0->keplergl) (2.6.1)\n",
            "Requirement already satisfied: pexpect in /usr/local/lib/python3.7/dist-packages (from ipython>=4.0.0->ipywidgets<8,>=7.0.0->keplergl) (4.8.0)\n",
            "Requirement already satisfied: prompt-toolkit<2.1.0,>=2.0.0 in /usr/local/lib/python3.7/dist-packages (from ipython>=4.0.0->ipywidgets<8,>=7.0.0->keplergl) (2.0.10)\n",
            "Requirement already satisfied: pickleshare in /usr/local/lib/python3.7/dist-packages (from ipython>=4.0.0->ipywidgets<8,>=7.0.0->keplergl) (0.7.5)\n",
            "Requirement already satisfied: backcall in /usr/local/lib/python3.7/dist-packages (from ipython>=4.0.0->ipywidgets<8,>=7.0.0->keplergl) (0.2.0)\n",
            "Requirement already satisfied: decorator in /usr/local/lib/python3.7/dist-packages (from ipython>=4.0.0->ipywidgets<8,>=7.0.0->keplergl) (4.4.2)\n",
            "Requirement already satisfied: parso<0.9.0,>=0.8.0 in /usr/local/lib/python3.7/dist-packages (from jedi>=0.10->ipython>=4.0.0->ipywidgets<8,>=7.0.0->keplergl) (0.8.3)\n",
            "Requirement already satisfied: python-dateutil>=2.7.3 in /usr/local/lib/python3.7/dist-packages (from pandas>=0.23.0->keplergl) (2.8.2)\n",
            "Requirement already satisfied: numpy>=1.17.3 in /usr/local/lib/python3.7/dist-packages (from pandas>=0.23.0->keplergl) (1.21.6)\n",
            "Requirement already satisfied: pytz>=2017.3 in /usr/local/lib/python3.7/dist-packages (from pandas>=0.23.0->keplergl) (2022.5)\n",
            "Requirement already satisfied: wcwidth in /usr/local/lib/python3.7/dist-packages (from prompt-toolkit<2.1.0,>=2.0.0->ipython>=4.0.0->ipywidgets<8,>=7.0.0->keplergl) (0.2.5)\n",
            "Requirement already satisfied: notebook>=4.4.1 in /usr/local/lib/python3.7/dist-packages (from widgetsnbextension~=3.6.0->ipywidgets<8,>=7.0.0->keplergl) (5.5.0)\n",
            "Requirement already satisfied: jupyter-core>=4.4.0 in /usr/local/lib/python3.7/dist-packages (from notebook>=4.4.1->widgetsnbextension~=3.6.0->ipywidgets<8,>=7.0.0->keplergl) (4.11.2)\n",
            "Requirement already satisfied: terminado>=0.8.1 in /usr/local/lib/python3.7/dist-packages (from notebook>=4.4.1->widgetsnbextension~=3.6.0->ipywidgets<8,>=7.0.0->keplergl) (0.13.3)\n",
            "Requirement already satisfied: nbformat in /usr/local/lib/python3.7/dist-packages (from notebook>=4.4.1->widgetsnbextension~=3.6.0->ipywidgets<8,>=7.0.0->keplergl) (5.7.0)\n",
            "Requirement already satisfied: Send2Trash in /usr/local/lib/python3.7/dist-packages (from notebook>=4.4.1->widgetsnbextension~=3.6.0->ipywidgets<8,>=7.0.0->keplergl) (1.8.0)\n",
            "Requirement already satisfied: jinja2 in /usr/local/lib/python3.7/dist-packages (from notebook>=4.4.1->widgetsnbextension~=3.6.0->ipywidgets<8,>=7.0.0->keplergl) (2.11.3)\n",
            "Requirement already satisfied: nbconvert in /usr/local/lib/python3.7/dist-packages (from notebook>=4.4.1->widgetsnbextension~=3.6.0->ipywidgets<8,>=7.0.0->keplergl) (5.6.1)\n",
            "Requirement already satisfied: pyzmq>=17 in /usr/local/lib/python3.7/dist-packages (from notebook>=4.4.1->widgetsnbextension~=3.6.0->ipywidgets<8,>=7.0.0->keplergl) (23.2.1)\n",
            "Requirement already satisfied: ptyprocess in /usr/local/lib/python3.7/dist-packages (from terminado>=0.8.1->notebook>=4.4.1->widgetsnbextension~=3.6.0->ipywidgets<8,>=7.0.0->keplergl) (0.7.0)\n",
            "Requirement already satisfied: MarkupSafe>=0.23 in /usr/local/lib/python3.7/dist-packages (from jinja2->notebook>=4.4.1->widgetsnbextension~=3.6.0->ipywidgets<8,>=7.0.0->keplergl) (2.0.1)\n",
            "Requirement already satisfied: bleach in /usr/local/lib/python3.7/dist-packages (from nbconvert->notebook>=4.4.1->widgetsnbextension~=3.6.0->ipywidgets<8,>=7.0.0->keplergl) (5.0.1)\n",
            "Requirement already satisfied: mistune<2,>=0.8.1 in /usr/local/lib/python3.7/dist-packages (from nbconvert->notebook>=4.4.1->widgetsnbextension~=3.6.0->ipywidgets<8,>=7.0.0->keplergl) (0.8.4)\n",
            "Requirement already satisfied: entrypoints>=0.2.2 in /usr/local/lib/python3.7/dist-packages (from nbconvert->notebook>=4.4.1->widgetsnbextension~=3.6.0->ipywidgets<8,>=7.0.0->keplergl) (0.4)\n",
            "Requirement already satisfied: defusedxml in /usr/local/lib/python3.7/dist-packages (from nbconvert->notebook>=4.4.1->widgetsnbextension~=3.6.0->ipywidgets<8,>=7.0.0->keplergl) (0.7.1)\n",
            "Requirement already satisfied: pandocfilters>=1.4.1 in /usr/local/lib/python3.7/dist-packages (from nbconvert->notebook>=4.4.1->widgetsnbextension~=3.6.0->ipywidgets<8,>=7.0.0->keplergl) (1.5.0)\n",
            "Requirement already satisfied: testpath in /usr/local/lib/python3.7/dist-packages (from nbconvert->notebook>=4.4.1->widgetsnbextension~=3.6.0->ipywidgets<8,>=7.0.0->keplergl) (0.6.0)\n",
            "Requirement already satisfied: importlib-metadata>=3.6 in /usr/local/lib/python3.7/dist-packages (from nbformat->notebook>=4.4.1->widgetsnbextension~=3.6.0->ipywidgets<8,>=7.0.0->keplergl) (4.13.0)\n",
            "Requirement already satisfied: fastjsonschema in /usr/local/lib/python3.7/dist-packages (from nbformat->notebook>=4.4.1->widgetsnbextension~=3.6.0->ipywidgets<8,>=7.0.0->keplergl) (2.16.2)\n",
            "Requirement already satisfied: jsonschema>=2.6 in /usr/local/lib/python3.7/dist-packages (from nbformat->notebook>=4.4.1->widgetsnbextension~=3.6.0->ipywidgets<8,>=7.0.0->keplergl) (4.3.3)\n",
            "Requirement already satisfied: zipp>=0.5 in /usr/local/lib/python3.7/dist-packages (from importlib-metadata>=3.6->nbformat->notebook>=4.4.1->widgetsnbextension~=3.6.0->ipywidgets<8,>=7.0.0->keplergl) (3.10.0)\n",
            "Requirement already satisfied: typing-extensions>=3.6.4 in /usr/local/lib/python3.7/dist-packages (from importlib-metadata>=3.6->nbformat->notebook>=4.4.1->widgetsnbextension~=3.6.0->ipywidgets<8,>=7.0.0->keplergl) (4.1.1)\n",
            "Requirement already satisfied: pyrsistent!=0.17.0,!=0.17.1,!=0.17.2,>=0.14.0 in /usr/local/lib/python3.7/dist-packages (from jsonschema>=2.6->nbformat->notebook>=4.4.1->widgetsnbextension~=3.6.0->ipywidgets<8,>=7.0.0->keplergl) (0.18.1)\n",
            "Requirement already satisfied: importlib-resources>=1.4.0 in /usr/local/lib/python3.7/dist-packages (from jsonschema>=2.6->nbformat->notebook>=4.4.1->widgetsnbextension~=3.6.0->ipywidgets<8,>=7.0.0->keplergl) (5.10.0)\n",
            "Requirement already satisfied: webencodings in /usr/local/lib/python3.7/dist-packages (from bleach->nbconvert->notebook>=4.4.1->widgetsnbextension~=3.6.0->ipywidgets<8,>=7.0.0->keplergl) (0.5.1)\n",
            "Building wheels for collected packages: keplergl\n",
            "  Building wheel for keplergl (PEP 517) ... \u001b[?25l\u001b[?25hdone\n",
            "  Created wheel for keplergl: filename=keplergl-0.3.2-py2.py3-none-any.whl size=17922344 sha256=9d4b7cf6e339ffbc09188220d5d2a7f756919cfa0129f893402424238829f2cb\n",
            "  Stored in directory: /root/.cache/pip/wheels/4b/19/e5/0852b7888ee350e9c57087ccc61eeab9daf50f5caac9c690ec\n",
            "Successfully built keplergl\n",
            "Installing collected packages: jedi, munch, cligj, click-plugins, pyproj, fiona, traittypes, geopandas, keplergl\n",
            "Successfully installed click-plugins-1.1.1 cligj-0.7.2 fiona-1.8.22 geopandas-0.10.2 jedi-0.18.1 keplergl-0.3.2 munch-2.5.0 pyproj-3.2.1 traittypes-0.2.1\n"
          ]
        }
      ]
    },
    {
      "cell_type": "code",
      "source": [
        "import pandas as pd\n",
        "from datetime import datetime\n",
        "import numpy as np\n",
        "pd.set_option('display.max_columns', None)\n",
        "from shapely.geometry import LineString\n",
        "from keplergl import KeplerGl\n",
        "## https://docs.kepler.gl/docs/keplergl-jupyter#6-match-config-with-data\n",
        "from ast import literal_eval\n",
        "import json"
      ],
      "metadata": {
        "id": "-OyLJ8ePT7xa"
      },
      "execution_count": null,
      "outputs": []
    },
    {
      "cell_type": "code",
      "source": [
        "input_file = 'route_plot'\n",
        "html_output = 'tsp_output'"
      ],
      "metadata": {
        "id": "zpAnvhiSe-u0"
      },
      "execution_count": null,
      "outputs": []
    },
    {
      "cell_type": "code",
      "source": [
        "df = pd.read_excel('%s.xlsx'%(input_file), sheet_name = 'Route_Info_Plot')\n",
        "df.Route = df.Route.apply(literal_eval)\n",
        "route_dict = df[[\"Rider_ID\", \"Route\"]].set_index('Rider_ID').T.to_dict('records')[0]\n",
        "df"
      ],
      "metadata": {
        "colab": {
          "base_uri": "https://localhost:8080/",
          "height": 80
        },
        "id": "eMH3Lk9wfR_X",
        "outputId": "3dcbab69-0545-4f8d-a2cc-c6079041a1fb"
      },
      "execution_count": null,
      "outputs": [
        {
          "output_type": "execute_result",
          "data": {
            "text/plain": [
              "   Rider_ID                                              Route\n",
              "0         0  [Kolkata, Uluberiya, Bārāsat, Agartala, Āīzawl..."
            ],
            "text/html": [
              "\n",
              "  <div id=\"df-4c9644ad-685d-4015-bd26-880f0fe06c53\">\n",
              "    <div class=\"colab-df-container\">\n",
              "      <div>\n",
              "<style scoped>\n",
              "    .dataframe tbody tr th:only-of-type {\n",
              "        vertical-align: middle;\n",
              "    }\n",
              "\n",
              "    .dataframe tbody tr th {\n",
              "        vertical-align: top;\n",
              "    }\n",
              "\n",
              "    .dataframe thead th {\n",
              "        text-align: right;\n",
              "    }\n",
              "</style>\n",
              "<table border=\"1\" class=\"dataframe\">\n",
              "  <thead>\n",
              "    <tr style=\"text-align: right;\">\n",
              "      <th></th>\n",
              "      <th>Rider_ID</th>\n",
              "      <th>Route</th>\n",
              "    </tr>\n",
              "  </thead>\n",
              "  <tbody>\n",
              "    <tr>\n",
              "      <th>0</th>\n",
              "      <td>0</td>\n",
              "      <td>[Kolkata, Uluberiya, Bārāsat, Agartala, Āīzawl...</td>\n",
              "    </tr>\n",
              "  </tbody>\n",
              "</table>\n",
              "</div>\n",
              "      <button class=\"colab-df-convert\" onclick=\"convertToInteractive('df-4c9644ad-685d-4015-bd26-880f0fe06c53')\"\n",
              "              title=\"Convert this dataframe to an interactive table.\"\n",
              "              style=\"display:none;\">\n",
              "        \n",
              "  <svg xmlns=\"http://www.w3.org/2000/svg\" height=\"24px\"viewBox=\"0 0 24 24\"\n",
              "       width=\"24px\">\n",
              "    <path d=\"M0 0h24v24H0V0z\" fill=\"none\"/>\n",
              "    <path d=\"M18.56 5.44l.94 2.06.94-2.06 2.06-.94-2.06-.94-.94-2.06-.94 2.06-2.06.94zm-11 1L8.5 8.5l.94-2.06 2.06-.94-2.06-.94L8.5 2.5l-.94 2.06-2.06.94zm10 10l.94 2.06.94-2.06 2.06-.94-2.06-.94-.94-2.06-.94 2.06-2.06.94z\"/><path d=\"M17.41 7.96l-1.37-1.37c-.4-.4-.92-.59-1.43-.59-.52 0-1.04.2-1.43.59L10.3 9.45l-7.72 7.72c-.78.78-.78 2.05 0 2.83L4 21.41c.39.39.9.59 1.41.59.51 0 1.02-.2 1.41-.59l7.78-7.78 2.81-2.81c.8-.78.8-2.07 0-2.86zM5.41 20L4 18.59l7.72-7.72 1.47 1.35L5.41 20z\"/>\n",
              "  </svg>\n",
              "      </button>\n",
              "      \n",
              "  <style>\n",
              "    .colab-df-container {\n",
              "      display:flex;\n",
              "      flex-wrap:wrap;\n",
              "      gap: 12px;\n",
              "    }\n",
              "\n",
              "    .colab-df-convert {\n",
              "      background-color: #E8F0FE;\n",
              "      border: none;\n",
              "      border-radius: 50%;\n",
              "      cursor: pointer;\n",
              "      display: none;\n",
              "      fill: #1967D2;\n",
              "      height: 32px;\n",
              "      padding: 0 0 0 0;\n",
              "      width: 32px;\n",
              "    }\n",
              "\n",
              "    .colab-df-convert:hover {\n",
              "      background-color: #E2EBFA;\n",
              "      box-shadow: 0px 1px 2px rgba(60, 64, 67, 0.3), 0px 1px 3px 1px rgba(60, 64, 67, 0.15);\n",
              "      fill: #174EA6;\n",
              "    }\n",
              "\n",
              "    [theme=dark] .colab-df-convert {\n",
              "      background-color: #3B4455;\n",
              "      fill: #D2E3FC;\n",
              "    }\n",
              "\n",
              "    [theme=dark] .colab-df-convert:hover {\n",
              "      background-color: #434B5C;\n",
              "      box-shadow: 0px 1px 3px 1px rgba(0, 0, 0, 0.15);\n",
              "      filter: drop-shadow(0px 1px 2px rgba(0, 0, 0, 0.3));\n",
              "      fill: #FFFFFF;\n",
              "    }\n",
              "  </style>\n",
              "\n",
              "      <script>\n",
              "        const buttonEl =\n",
              "          document.querySelector('#df-4c9644ad-685d-4015-bd26-880f0fe06c53 button.colab-df-convert');\n",
              "        buttonEl.style.display =\n",
              "          google.colab.kernel.accessAllowed ? 'block' : 'none';\n",
              "\n",
              "        async function convertToInteractive(key) {\n",
              "          const element = document.querySelector('#df-4c9644ad-685d-4015-bd26-880f0fe06c53');\n",
              "          const dataTable =\n",
              "            await google.colab.kernel.invokeFunction('convertToInteractive',\n",
              "                                                     [key], {});\n",
              "          if (!dataTable) return;\n",
              "\n",
              "          const docLinkHtml = 'Like what you see? Visit the ' +\n",
              "            '<a target=\"_blank\" href=https://colab.research.google.com/notebooks/data_table.ipynb>data table notebook</a>'\n",
              "            + ' to learn more about interactive tables.';\n",
              "          element.innerHTML = '';\n",
              "          dataTable['output_type'] = 'display_data';\n",
              "          await google.colab.output.renderOutput(dataTable, element);\n",
              "          const docLink = document.createElement('div');\n",
              "          docLink.innerHTML = docLinkHtml;\n",
              "          element.appendChild(docLink);\n",
              "        }\n",
              "      </script>\n",
              "    </div>\n",
              "  </div>\n",
              "  "
            ]
          },
          "metadata": {},
          "execution_count": 52
        }
      ]
    },
    {
      "cell_type": "code",
      "source": [
        "lat_long = pd.read_excel('%s.xlsx'%(input_file), sheet_name = 'Cities_lat_long')\n",
        "latlong_dict = lat_long.set_index('id').T.to_dict('list')\n",
        "lat_long.head()"
      ],
      "metadata": {
        "colab": {
          "base_uri": "https://localhost:8080/",
          "height": 204
        },
        "id": "5I6Cs4OLfYu8",
        "outputId": "a98ee07c-26f1-45aa-c8ab-e92f025db91f"
      },
      "execution_count": null,
      "outputs": [
        {
          "output_type": "execute_result",
          "data": {
            "text/plain": [
              "          id      lat     long\n",
              "0    Kolkata  22.5411  88.3378\n",
              "1      Delhi  28.6600  77.2300\n",
              "2     Mumbai  18.9667  72.8333\n",
              "3  Bangalore  12.9699  77.5980\n",
              "4    Chennai  13.0825  80.2750"
            ],
            "text/html": [
              "\n",
              "  <div id=\"df-00ee0c66-5c8f-4e1b-aa10-84ceeca7d2f5\">\n",
              "    <div class=\"colab-df-container\">\n",
              "      <div>\n",
              "<style scoped>\n",
              "    .dataframe tbody tr th:only-of-type {\n",
              "        vertical-align: middle;\n",
              "    }\n",
              "\n",
              "    .dataframe tbody tr th {\n",
              "        vertical-align: top;\n",
              "    }\n",
              "\n",
              "    .dataframe thead th {\n",
              "        text-align: right;\n",
              "    }\n",
              "</style>\n",
              "<table border=\"1\" class=\"dataframe\">\n",
              "  <thead>\n",
              "    <tr style=\"text-align: right;\">\n",
              "      <th></th>\n",
              "      <th>id</th>\n",
              "      <th>lat</th>\n",
              "      <th>long</th>\n",
              "    </tr>\n",
              "  </thead>\n",
              "  <tbody>\n",
              "    <tr>\n",
              "      <th>0</th>\n",
              "      <td>Kolkata</td>\n",
              "      <td>22.5411</td>\n",
              "      <td>88.3378</td>\n",
              "    </tr>\n",
              "    <tr>\n",
              "      <th>1</th>\n",
              "      <td>Delhi</td>\n",
              "      <td>28.6600</td>\n",
              "      <td>77.2300</td>\n",
              "    </tr>\n",
              "    <tr>\n",
              "      <th>2</th>\n",
              "      <td>Mumbai</td>\n",
              "      <td>18.9667</td>\n",
              "      <td>72.8333</td>\n",
              "    </tr>\n",
              "    <tr>\n",
              "      <th>3</th>\n",
              "      <td>Bangalore</td>\n",
              "      <td>12.9699</td>\n",
              "      <td>77.5980</td>\n",
              "    </tr>\n",
              "    <tr>\n",
              "      <th>4</th>\n",
              "      <td>Chennai</td>\n",
              "      <td>13.0825</td>\n",
              "      <td>80.2750</td>\n",
              "    </tr>\n",
              "  </tbody>\n",
              "</table>\n",
              "</div>\n",
              "      <button class=\"colab-df-convert\" onclick=\"convertToInteractive('df-00ee0c66-5c8f-4e1b-aa10-84ceeca7d2f5')\"\n",
              "              title=\"Convert this dataframe to an interactive table.\"\n",
              "              style=\"display:none;\">\n",
              "        \n",
              "  <svg xmlns=\"http://www.w3.org/2000/svg\" height=\"24px\"viewBox=\"0 0 24 24\"\n",
              "       width=\"24px\">\n",
              "    <path d=\"M0 0h24v24H0V0z\" fill=\"none\"/>\n",
              "    <path d=\"M18.56 5.44l.94 2.06.94-2.06 2.06-.94-2.06-.94-.94-2.06-.94 2.06-2.06.94zm-11 1L8.5 8.5l.94-2.06 2.06-.94-2.06-.94L8.5 2.5l-.94 2.06-2.06.94zm10 10l.94 2.06.94-2.06 2.06-.94-2.06-.94-.94-2.06-.94 2.06-2.06.94z\"/><path d=\"M17.41 7.96l-1.37-1.37c-.4-.4-.92-.59-1.43-.59-.52 0-1.04.2-1.43.59L10.3 9.45l-7.72 7.72c-.78.78-.78 2.05 0 2.83L4 21.41c.39.39.9.59 1.41.59.51 0 1.02-.2 1.41-.59l7.78-7.78 2.81-2.81c.8-.78.8-2.07 0-2.86zM5.41 20L4 18.59l7.72-7.72 1.47 1.35L5.41 20z\"/>\n",
              "  </svg>\n",
              "      </button>\n",
              "      \n",
              "  <style>\n",
              "    .colab-df-container {\n",
              "      display:flex;\n",
              "      flex-wrap:wrap;\n",
              "      gap: 12px;\n",
              "    }\n",
              "\n",
              "    .colab-df-convert {\n",
              "      background-color: #E8F0FE;\n",
              "      border: none;\n",
              "      border-radius: 50%;\n",
              "      cursor: pointer;\n",
              "      display: none;\n",
              "      fill: #1967D2;\n",
              "      height: 32px;\n",
              "      padding: 0 0 0 0;\n",
              "      width: 32px;\n",
              "    }\n",
              "\n",
              "    .colab-df-convert:hover {\n",
              "      background-color: #E2EBFA;\n",
              "      box-shadow: 0px 1px 2px rgba(60, 64, 67, 0.3), 0px 1px 3px 1px rgba(60, 64, 67, 0.15);\n",
              "      fill: #174EA6;\n",
              "    }\n",
              "\n",
              "    [theme=dark] .colab-df-convert {\n",
              "      background-color: #3B4455;\n",
              "      fill: #D2E3FC;\n",
              "    }\n",
              "\n",
              "    [theme=dark] .colab-df-convert:hover {\n",
              "      background-color: #434B5C;\n",
              "      box-shadow: 0px 1px 3px 1px rgba(0, 0, 0, 0.15);\n",
              "      filter: drop-shadow(0px 1px 2px rgba(0, 0, 0, 0.3));\n",
              "      fill: #FFFFFF;\n",
              "    }\n",
              "  </style>\n",
              "\n",
              "      <script>\n",
              "        const buttonEl =\n",
              "          document.querySelector('#df-00ee0c66-5c8f-4e1b-aa10-84ceeca7d2f5 button.colab-df-convert');\n",
              "        buttonEl.style.display =\n",
              "          google.colab.kernel.accessAllowed ? 'block' : 'none';\n",
              "\n",
              "        async function convertToInteractive(key) {\n",
              "          const element = document.querySelector('#df-00ee0c66-5c8f-4e1b-aa10-84ceeca7d2f5');\n",
              "          const dataTable =\n",
              "            await google.colab.kernel.invokeFunction('convertToInteractive',\n",
              "                                                     [key], {});\n",
              "          if (!dataTable) return;\n",
              "\n",
              "          const docLinkHtml = 'Like what you see? Visit the ' +\n",
              "            '<a target=\"_blank\" href=https://colab.research.google.com/notebooks/data_table.ipynb>data table notebook</a>'\n",
              "            + ' to learn more about interactive tables.';\n",
              "          element.innerHTML = '';\n",
              "          dataTable['output_type'] = 'display_data';\n",
              "          await google.colab.output.renderOutput(dataTable, element);\n",
              "          const docLink = document.createElement('div');\n",
              "          docLink.innerHTML = docLinkHtml;\n",
              "          element.appendChild(docLink);\n",
              "        }\n",
              "      </script>\n",
              "    </div>\n",
              "  </div>\n",
              "  "
            ]
          },
          "metadata": {},
          "execution_count": 53
        }
      ]
    },
    {
      "cell_type": "code",
      "source": [
        "line = []\n",
        "for index, row in df.iterrows():\n",
        "    lat_long_list = []\n",
        "    for i in range(len(route_dict[row['Rider_ID']])):\n",
        "        lat = latlong_dict[route_dict[row['Rider_ID']][i]][0]\n",
        "        long = latlong_dict[route_dict[row['Rider_ID']][i]][1]\n",
        "        lat_long_list.append((long,lat))\n",
        "    line.append([row['Rider_ID'], LineString(lat_long_list)])"
      ],
      "metadata": {
        "id": "8Z72tXZGfm03"
      },
      "execution_count": null,
      "outputs": []
    },
    {
      "cell_type": "code",
      "source": [
        "line_df = pd.DataFrame([{'rider_id': line[i][0] ,'geometry':line[i][1].wkt} for i in range(len(line))])\n",
        "line_df.to_csv('line_{0}.csv'.format(html_output))"
      ],
      "metadata": {
        "id": "G5XRTsxvft4V"
      },
      "execution_count": null,
      "outputs": []
    },
    {
      "cell_type": "code",
      "source": [
        "line_df.head()"
      ],
      "metadata": {
        "colab": {
          "base_uri": "https://localhost:8080/",
          "height": 80
        },
        "id": "06WkZEhEfxHW",
        "outputId": "8efb5bd6-63fa-4348-eda1-e141a95dba31"
      },
      "execution_count": null,
      "outputs": [
        {
          "output_type": "execute_result",
          "data": {
            "text/plain": [
              "   rider_id                                           geometry\n",
              "0         0  LINESTRING (88.3378 22.5411, 88.11 22.47, 88.4..."
            ],
            "text/html": [
              "\n",
              "  <div id=\"df-94c9f8ad-8e14-4a82-b87c-fc54de593ebb\">\n",
              "    <div class=\"colab-df-container\">\n",
              "      <div>\n",
              "<style scoped>\n",
              "    .dataframe tbody tr th:only-of-type {\n",
              "        vertical-align: middle;\n",
              "    }\n",
              "\n",
              "    .dataframe tbody tr th {\n",
              "        vertical-align: top;\n",
              "    }\n",
              "\n",
              "    .dataframe thead th {\n",
              "        text-align: right;\n",
              "    }\n",
              "</style>\n",
              "<table border=\"1\" class=\"dataframe\">\n",
              "  <thead>\n",
              "    <tr style=\"text-align: right;\">\n",
              "      <th></th>\n",
              "      <th>rider_id</th>\n",
              "      <th>geometry</th>\n",
              "    </tr>\n",
              "  </thead>\n",
              "  <tbody>\n",
              "    <tr>\n",
              "      <th>0</th>\n",
              "      <td>0</td>\n",
              "      <td>LINESTRING (88.3378 22.5411, 88.11 22.47, 88.4...</td>\n",
              "    </tr>\n",
              "  </tbody>\n",
              "</table>\n",
              "</div>\n",
              "      <button class=\"colab-df-convert\" onclick=\"convertToInteractive('df-94c9f8ad-8e14-4a82-b87c-fc54de593ebb')\"\n",
              "              title=\"Convert this dataframe to an interactive table.\"\n",
              "              style=\"display:none;\">\n",
              "        \n",
              "  <svg xmlns=\"http://www.w3.org/2000/svg\" height=\"24px\"viewBox=\"0 0 24 24\"\n",
              "       width=\"24px\">\n",
              "    <path d=\"M0 0h24v24H0V0z\" fill=\"none\"/>\n",
              "    <path d=\"M18.56 5.44l.94 2.06.94-2.06 2.06-.94-2.06-.94-.94-2.06-.94 2.06-2.06.94zm-11 1L8.5 8.5l.94-2.06 2.06-.94-2.06-.94L8.5 2.5l-.94 2.06-2.06.94zm10 10l.94 2.06.94-2.06 2.06-.94-2.06-.94-.94-2.06-.94 2.06-2.06.94z\"/><path d=\"M17.41 7.96l-1.37-1.37c-.4-.4-.92-.59-1.43-.59-.52 0-1.04.2-1.43.59L10.3 9.45l-7.72 7.72c-.78.78-.78 2.05 0 2.83L4 21.41c.39.39.9.59 1.41.59.51 0 1.02-.2 1.41-.59l7.78-7.78 2.81-2.81c.8-.78.8-2.07 0-2.86zM5.41 20L4 18.59l7.72-7.72 1.47 1.35L5.41 20z\"/>\n",
              "  </svg>\n",
              "      </button>\n",
              "      \n",
              "  <style>\n",
              "    .colab-df-container {\n",
              "      display:flex;\n",
              "      flex-wrap:wrap;\n",
              "      gap: 12px;\n",
              "    }\n",
              "\n",
              "    .colab-df-convert {\n",
              "      background-color: #E8F0FE;\n",
              "      border: none;\n",
              "      border-radius: 50%;\n",
              "      cursor: pointer;\n",
              "      display: none;\n",
              "      fill: #1967D2;\n",
              "      height: 32px;\n",
              "      padding: 0 0 0 0;\n",
              "      width: 32px;\n",
              "    }\n",
              "\n",
              "    .colab-df-convert:hover {\n",
              "      background-color: #E2EBFA;\n",
              "      box-shadow: 0px 1px 2px rgba(60, 64, 67, 0.3), 0px 1px 3px 1px rgba(60, 64, 67, 0.15);\n",
              "      fill: #174EA6;\n",
              "    }\n",
              "\n",
              "    [theme=dark] .colab-df-convert {\n",
              "      background-color: #3B4455;\n",
              "      fill: #D2E3FC;\n",
              "    }\n",
              "\n",
              "    [theme=dark] .colab-df-convert:hover {\n",
              "      background-color: #434B5C;\n",
              "      box-shadow: 0px 1px 3px 1px rgba(0, 0, 0, 0.15);\n",
              "      filter: drop-shadow(0px 1px 2px rgba(0, 0, 0, 0.3));\n",
              "      fill: #FFFFFF;\n",
              "    }\n",
              "  </style>\n",
              "\n",
              "      <script>\n",
              "        const buttonEl =\n",
              "          document.querySelector('#df-94c9f8ad-8e14-4a82-b87c-fc54de593ebb button.colab-df-convert');\n",
              "        buttonEl.style.display =\n",
              "          google.colab.kernel.accessAllowed ? 'block' : 'none';\n",
              "\n",
              "        async function convertToInteractive(key) {\n",
              "          const element = document.querySelector('#df-94c9f8ad-8e14-4a82-b87c-fc54de593ebb');\n",
              "          const dataTable =\n",
              "            await google.colab.kernel.invokeFunction('convertToInteractive',\n",
              "                                                     [key], {});\n",
              "          if (!dataTable) return;\n",
              "\n",
              "          const docLinkHtml = 'Like what you see? Visit the ' +\n",
              "            '<a target=\"_blank\" href=https://colab.research.google.com/notebooks/data_table.ipynb>data table notebook</a>'\n",
              "            + ' to learn more about interactive tables.';\n",
              "          element.innerHTML = '';\n",
              "          dataTable['output_type'] = 'display_data';\n",
              "          await google.colab.output.renderOutput(dataTable, element);\n",
              "          const docLink = document.createElement('div');\n",
              "          docLink.innerHTML = docLinkHtml;\n",
              "          element.appendChild(docLink);\n",
              "        }\n",
              "      </script>\n",
              "    </div>\n",
              "  </div>\n",
              "  "
            ]
          },
          "metadata": {},
          "execution_count": 56
        }
      ]
    },
    {
      "cell_type": "code",
      "source": [
        "with open(\"config_optimal_{0}.json\".format(html_output)) as f:\n",
        "    config_data = json.load(f)\n",
        "config_data"
      ],
      "metadata": {
        "colab": {
          "base_uri": "https://localhost:8080/"
        },
        "id": "oJCX8zuIf53S",
        "outputId": "76e77294-3950-46dc-e2dd-f22f78e259d3"
      },
      "execution_count": null,
      "outputs": [
        {
          "output_type": "execute_result",
          "data": {
            "text/plain": [
              "{'version': 'v1',\n",
              " 'config': {'visState': {'filters': [],\n",
              "   'layers': [{'id': '5d4o5hb',\n",
              "     'type': 'geojson',\n",
              "     'config': {'dataId': 'Line_data',\n",
              "      'label': 'Line_data',\n",
              "      'color': [18, 147, 154],\n",
              "      'highlightColor': [252, 242, 26, 255],\n",
              "      'columns': {'geojson': 'geometry'},\n",
              "      'isVisible': True,\n",
              "      'visConfig': {'opacity': 0.8,\n",
              "       'strokeOpacity': 0.8,\n",
              "       'thickness': 0.5,\n",
              "       'strokeColor': None,\n",
              "       'colorRange': {'name': 'Global Warming',\n",
              "        'type': 'sequential',\n",
              "        'category': 'Uber',\n",
              "        'colors': ['#5A1846',\n",
              "         '#900C3F',\n",
              "         '#C70039',\n",
              "         '#E3611C',\n",
              "         '#F1920E',\n",
              "         '#FFC300']},\n",
              "       'strokeColorRange': {'name': 'Global Warming',\n",
              "        'type': 'sequential',\n",
              "        'category': 'Uber',\n",
              "        'colors': ['#5A1846',\n",
              "         '#900C3F',\n",
              "         '#C70039',\n",
              "         '#E3611C',\n",
              "         '#F1920E',\n",
              "         '#FFC300']},\n",
              "       'radius': 10,\n",
              "       'sizeRange': [0, 10],\n",
              "       'radiusRange': [0, 50],\n",
              "       'heightRange': [0, 500],\n",
              "       'elevationScale': 5,\n",
              "       'enableElevationZoomFactor': True,\n",
              "       'stroked': True,\n",
              "       'filled': False,\n",
              "       'enable3d': False,\n",
              "       'wireframe': False},\n",
              "      'hidden': False,\n",
              "      'textLabel': [{'field': None,\n",
              "        'color': [255, 255, 255],\n",
              "        'size': 18,\n",
              "        'offset': [0, 0],\n",
              "        'anchor': 'start',\n",
              "        'alignment': 'center'}]},\n",
              "     'visualChannels': {'colorField': None,\n",
              "      'colorScale': 'quantile',\n",
              "      'strokeColorField': None,\n",
              "      'strokeColorScale': 'quantile',\n",
              "      'sizeField': None,\n",
              "      'sizeScale': 'linear',\n",
              "      'heightField': None,\n",
              "      'heightScale': 'linear',\n",
              "      'radiusField': None,\n",
              "      'radiusScale': 'linear'}},\n",
              "    {'id': 'a9b8p7',\n",
              "     'type': 'point',\n",
              "     'config': {'dataId': 'lat_long',\n",
              "      'label': 'Lat_Long data',\n",
              "      'color': [231, 159, 213],\n",
              "      'highlightColor': [252, 242, 26, 255],\n",
              "      'columns': {'lat': 'lat', 'lng': 'long', 'altitude': None},\n",
              "      'isVisible': True,\n",
              "      'visConfig': {'radius': 10,\n",
              "       'fixedRadius': False,\n",
              "       'opacity': 0.8,\n",
              "       'outline': False,\n",
              "       'thickness': 2,\n",
              "       'strokeColor': None,\n",
              "       'colorRange': {'name': 'Global Warming',\n",
              "        'type': 'sequential',\n",
              "        'category': 'Uber',\n",
              "        'colors': ['#5A1846',\n",
              "         '#900C3F',\n",
              "         '#C70039',\n",
              "         '#E3611C',\n",
              "         '#F1920E',\n",
              "         '#FFC300']},\n",
              "       'strokeColorRange': {'name': 'Global Warming',\n",
              "        'type': 'sequential',\n",
              "        'category': 'Uber',\n",
              "        'colors': ['#5A1846',\n",
              "         '#900C3F',\n",
              "         '#C70039',\n",
              "         '#E3611C',\n",
              "         '#F1920E',\n",
              "         '#FFC300']},\n",
              "       'radiusRange': [0, 50],\n",
              "       'filled': True},\n",
              "      'hidden': False,\n",
              "      'textLabel': [{'field': None,\n",
              "        'color': [255, 255, 255],\n",
              "        'size': 18,\n",
              "        'offset': [0, 0],\n",
              "        'anchor': 'start',\n",
              "        'alignment': 'center'}]},\n",
              "     'visualChannels': {'colorField': {'name': 'id', 'type': 'string'},\n",
              "      'colorScale': 'ordinal',\n",
              "      'strokeColorField': None,\n",
              "      'strokeColorScale': 'quantile',\n",
              "      'sizeField': None,\n",
              "      'sizeScale': 'linear'}}],\n",
              "   'interactionConfig': {'tooltip': {'fieldsToShow': {'Line_data': [{'name': 'rider_id',\n",
              "        'format': None}],\n",
              "      'lat_long': [{'name': 'id', 'format': None},\n",
              "       {'name': 'long', 'format': None}],\n",
              "      'all_features': [{'name': 'Rider_ID', 'format': None}]},\n",
              "     'compareMode': False,\n",
              "     'compareType': 'absolute',\n",
              "     'enabled': True},\n",
              "    'brush': {'size': 0.5, 'enabled': False},\n",
              "    'geocoder': {'enabled': False},\n",
              "    'coordinate': {'enabled': False}},\n",
              "   'layerBlending': 'normal',\n",
              "   'splitMaps': [],\n",
              "   'animationConfig': {'currentTime': None, 'speed': 1}},\n",
              "  'mapState': {'bearing': 0,\n",
              "   'dragRotate': False,\n",
              "   'latitude': 19.35479806763001,\n",
              "   'longitude': 92.64163227541316,\n",
              "   'pitch': 0,\n",
              "   'zoom': 2.858970959177387,\n",
              "   'isSplit': False},\n",
              "  'mapStyle': {'styleType': 'dark',\n",
              "   'topLayerGroups': {},\n",
              "   'visibleLayerGroups': {'label': True,\n",
              "    'road': True,\n",
              "    'border': False,\n",
              "    'building': True,\n",
              "    'water': True,\n",
              "    'land': True,\n",
              "    '3d building': False},\n",
              "   'threeDBuildingColor': [9.665468314072013,\n",
              "    17.18305478057247,\n",
              "    31.1442867897876],\n",
              "   'mapStyles': {}}}}"
            ]
          },
          "metadata": {},
          "execution_count": 57
        }
      ]
    },
    {
      "cell_type": "code",
      "source": [
        "map_1 = KeplerGl(config=config_data)\n",
        "map_1.add_data(data=line_df, name='Line_data')\n",
        "map_1.add_data(data=lat_long, name='lat_long')\n",
        "map_1.add_data(data=df, name='all_features')\n",
        "map_1"
      ],
      "metadata": {
        "colab": {
          "base_uri": "https://localhost:8080/",
          "height": 421,
          "referenced_widgets": [
            "570cd04806944690896d91806ae44d60",
            "671661ad03354d0db04045edf3733c95"
          ]
        },
        "id": "4YHUrlFUf_VY",
        "outputId": "450794a1-0709-4613-f558-1086988767f2"
      },
      "execution_count": null,
      "outputs": [
        {
          "output_type": "stream",
          "name": "stdout",
          "text": [
            "User Guide: https://docs.kepler.gl/docs/keplergl-jupyter\n"
          ]
        },
        {
          "output_type": "display_data",
          "data": {
            "text/plain": [
              "KeplerGl(config={'version': 'v1', 'config': {'visState': {'filters': [], 'layers': [{'id': '5d4o5hb', 'type': …"
            ],
            "application/vnd.jupyter.widget-view+json": {
              "version_major": 2,
              "version_minor": 0,
              "model_id": "570cd04806944690896d91806ae44d60"
            }
          },
          "metadata": {
            "application/vnd.jupyter.widget-view+json": {
              "colab": {
                "custom_widget_manager": {
                  "url": "https://ssl.gstatic.com/colaboratory-static/widgets/colab-cdn-widget-manager/d2e234f7cc04bf79/manager.min.js"
                }
              }
            }
          }
        }
      ]
    },
    {
      "cell_type": "code",
      "source": [],
      "metadata": {
        "id": "5anMy5IKgEt3"
      },
      "execution_count": null,
      "outputs": []
    },
    {
      "cell_type": "code",
      "source": [
        "from google.colab import output\n",
        "output.enable_custom_widget_manager()"
      ],
      "metadata": {
        "id": "rGQxEkpig0cG"
      },
      "execution_count": null,
      "outputs": []
    },
    {
      "cell_type": "code",
      "source": [],
      "metadata": {
        "id": "FQXcXXeQhY3o"
      },
      "execution_count": null,
      "outputs": []
    },
    {
      "cell_type": "code",
      "source": [
        "map_1.save_to_html(config=map_1.config, file_name='{0}.html'.format(html_output))"
      ],
      "metadata": {
        "colab": {
          "base_uri": "https://localhost:8080/"
        },
        "id": "pFE5lbz3hYvV",
        "outputId": "c86a533f-3aa6-429e-b2aa-6a0799b529f5"
      },
      "execution_count": null,
      "outputs": [
        {
          "output_type": "stream",
          "name": "stdout",
          "text": [
            "Map saved to tsp_output.html!\n"
          ]
        }
      ]
    },
    {
      "cell_type": "code",
      "source": [
        "config = map_1.config\n",
        "with open(\"config_optimal_{0}.json\".format(html_output), \"w\") as out_file:\n",
        "        json.dump(config, out_file)"
      ],
      "metadata": {
        "id": "82taD1MjhYmk"
      },
      "execution_count": null,
      "outputs": []
    },
    {
      "cell_type": "code",
      "source": [
        "# from google.colab import output\n",
        "# output.disable_custom_widget_manager()"
      ],
      "metadata": {
        "id": "znLA63Mhg0cH"
      },
      "execution_count": null,
      "outputs": []
    },
    {
      "cell_type": "code",
      "source": [],
      "metadata": {
        "id": "UtIvnCRay2vB"
      },
      "execution_count": null,
      "outputs": []
    }
  ]
}