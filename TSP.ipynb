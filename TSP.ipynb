{
  "nbformat": 4,
  "nbformat_minor": 0,
  "metadata": {
    "colab": {
      "provenance": [],
      "include_colab_link": true
    },
    "kernelspec": {
      "name": "python3",
      "display_name": "Python 3"
    },
    "language_info": {
      "name": "python"
    }
  },
  "cells": [
    {
      "cell_type": "markdown",
      "metadata": {
        "id": "view-in-github",
        "colab_type": "text"
      },
      "source": [
        "<a href=\"https://colab.research.google.com/github/paulsiddhartha0/travelling_salesman_problem/blob/main/TSP.ipynb\" target=\"_parent\"><img src=\"https://colab.research.google.com/assets/colab-badge.svg\" alt=\"Open In Colab\"/></a>"
      ]
    },
    {
      "cell_type": "code",
      "execution_count": null,
      "metadata": {
        "id": "0OZqrWQj8Yjz"
      },
      "outputs": [],
      "source": []
    },
    {
      "cell_type": "code",
      "source": [
        "!pip install ortools"
      ],
      "metadata": {
        "colab": {
          "base_uri": "https://localhost:8080/"
        },
        "id": "J_MHG0iY_zGX",
        "outputId": "51929cdb-8ccf-470c-be6e-8e8531d7fc3a"
      },
      "execution_count": null,
      "outputs": [
        {
          "output_type": "stream",
          "name": "stdout",
          "text": [
            "Looking in indexes: https://pypi.org/simple, https://us-python.pkg.dev/colab-wheels/public/simple/\n",
            "Collecting ortools\n",
            "  Downloading ortools-9.4.1874-cp37-cp37m-manylinux_2_17_x86_64.manylinux2014_x86_64.whl (16.0 MB)\n",
            "\u001b[K     |████████████████████████████████| 16.0 MB 4.2 MB/s \n",
            "\u001b[?25hRequirement already satisfied: absl-py>=0.13 in /usr/local/lib/python3.7/dist-packages (from ortools) (1.3.0)\n",
            "Requirement already satisfied: numpy>=1.13.3 in /usr/local/lib/python3.7/dist-packages (from ortools) (1.21.6)\n",
            "Collecting protobuf>=3.19.4\n",
            "  Downloading protobuf-4.21.9-cp37-abi3-manylinux2014_x86_64.whl (408 kB)\n",
            "\u001b[K     |████████████████████████████████| 408 kB 67.6 MB/s \n",
            "\u001b[?25hInstalling collected packages: protobuf, ortools\n",
            "  Attempting uninstall: protobuf\n",
            "    Found existing installation: protobuf 3.17.3\n",
            "    Uninstalling protobuf-3.17.3:\n",
            "      Successfully uninstalled protobuf-3.17.3\n",
            "\u001b[31mERROR: pip's dependency resolver does not currently take into account all the packages that are installed. This behaviour is the source of the following dependency conflicts.\n",
            "tensorflow 2.9.2 requires protobuf<3.20,>=3.9.2, but you have protobuf 4.21.9 which is incompatible.\n",
            "tensorflow-metadata 1.10.0 requires protobuf<4,>=3.13, but you have protobuf 4.21.9 which is incompatible.\n",
            "tensorboard 2.9.1 requires protobuf<3.20,>=3.9.2, but you have protobuf 4.21.9 which is incompatible.\n",
            "google-cloud-bigquery-storage 1.1.2 requires protobuf<4.0.0dev, but you have protobuf 4.21.9 which is incompatible.\n",
            "google-api-core 1.31.6 requires protobuf<4.0.0dev,>=3.12.0; python_version > \"3\", but you have protobuf 4.21.9 which is incompatible.\u001b[0m\n",
            "Successfully installed ortools-9.4.1874 protobuf-4.21.9\n"
          ]
        }
      ]
    },
    {
      "cell_type": "code",
      "source": [
        "import pandas as pd\n",
        "df = pd.read_csv('India Cities LatLng.csv')\n",
        "df = df[df.city!= 'Kolkata']\n",
        "cities_lat_dict = df[['city', 'lat']].set_index('city')['lat'].to_dict()\n",
        "cities_lng_dict = df[['city', 'lng']].set_index('city')['lng'].to_dict()"
      ],
      "metadata": {
        "id": "OlfbgV_Q0vZt"
      },
      "execution_count": null,
      "outputs": []
    },
    {
      "cell_type": "code",
      "source": [
        "df.head()"
      ],
      "metadata": {
        "id": "3-mqapcw0w85",
        "outputId": "37748b09-6dbc-4678-e6e1-606a14de5b6c",
        "colab": {
          "base_uri": "https://localhost:8080/",
          "height": 204
        }
      },
      "execution_count": null,
      "outputs": [
        {
          "output_type": "execute_result",
          "data": {
            "text/plain": [
              "        city      lat      lng country iso2   admin_name capital  population  \\\n",
              "0      Delhi  28.6600  77.2300   India   IN        Delhi   admin  29617000.0   \n",
              "1     Mumbai  18.9667  72.8333   India   IN  Mahārāshtra   admin  23355000.0   \n",
              "3  Bangalore  12.9699  77.5980   India   IN    Karnātaka   admin  13707000.0   \n",
              "4    Chennai  13.0825  80.2750   India   IN   Tamil Nādu   admin  11324000.0   \n",
              "5  Hyderabad  17.3667  78.4667   India   IN    Telangana   admin   9746000.0   \n",
              "\n",
              "   population_proper  \n",
              "0         16753235.0  \n",
              "1         12478447.0  \n",
              "3          8443675.0  \n",
              "4          6727000.0  \n",
              "5          6993262.0  "
            ],
            "text/html": [
              "\n",
              "  <div id=\"df-0935cdb0-c341-4fce-b136-ce8f2c6f4559\">\n",
              "    <div class=\"colab-df-container\">\n",
              "      <div>\n",
              "<style scoped>\n",
              "    .dataframe tbody tr th:only-of-type {\n",
              "        vertical-align: middle;\n",
              "    }\n",
              "\n",
              "    .dataframe tbody tr th {\n",
              "        vertical-align: top;\n",
              "    }\n",
              "\n",
              "    .dataframe thead th {\n",
              "        text-align: right;\n",
              "    }\n",
              "</style>\n",
              "<table border=\"1\" class=\"dataframe\">\n",
              "  <thead>\n",
              "    <tr style=\"text-align: right;\">\n",
              "      <th></th>\n",
              "      <th>city</th>\n",
              "      <th>lat</th>\n",
              "      <th>lng</th>\n",
              "      <th>country</th>\n",
              "      <th>iso2</th>\n",
              "      <th>admin_name</th>\n",
              "      <th>capital</th>\n",
              "      <th>population</th>\n",
              "      <th>population_proper</th>\n",
              "    </tr>\n",
              "  </thead>\n",
              "  <tbody>\n",
              "    <tr>\n",
              "      <th>0</th>\n",
              "      <td>Delhi</td>\n",
              "      <td>28.6600</td>\n",
              "      <td>77.2300</td>\n",
              "      <td>India</td>\n",
              "      <td>IN</td>\n",
              "      <td>Delhi</td>\n",
              "      <td>admin</td>\n",
              "      <td>29617000.0</td>\n",
              "      <td>16753235.0</td>\n",
              "    </tr>\n",
              "    <tr>\n",
              "      <th>1</th>\n",
              "      <td>Mumbai</td>\n",
              "      <td>18.9667</td>\n",
              "      <td>72.8333</td>\n",
              "      <td>India</td>\n",
              "      <td>IN</td>\n",
              "      <td>Mahārāshtra</td>\n",
              "      <td>admin</td>\n",
              "      <td>23355000.0</td>\n",
              "      <td>12478447.0</td>\n",
              "    </tr>\n",
              "    <tr>\n",
              "      <th>3</th>\n",
              "      <td>Bangalore</td>\n",
              "      <td>12.9699</td>\n",
              "      <td>77.5980</td>\n",
              "      <td>India</td>\n",
              "      <td>IN</td>\n",
              "      <td>Karnātaka</td>\n",
              "      <td>admin</td>\n",
              "      <td>13707000.0</td>\n",
              "      <td>8443675.0</td>\n",
              "    </tr>\n",
              "    <tr>\n",
              "      <th>4</th>\n",
              "      <td>Chennai</td>\n",
              "      <td>13.0825</td>\n",
              "      <td>80.2750</td>\n",
              "      <td>India</td>\n",
              "      <td>IN</td>\n",
              "      <td>Tamil Nādu</td>\n",
              "      <td>admin</td>\n",
              "      <td>11324000.0</td>\n",
              "      <td>6727000.0</td>\n",
              "    </tr>\n",
              "    <tr>\n",
              "      <th>5</th>\n",
              "      <td>Hyderabad</td>\n",
              "      <td>17.3667</td>\n",
              "      <td>78.4667</td>\n",
              "      <td>India</td>\n",
              "      <td>IN</td>\n",
              "      <td>Telangana</td>\n",
              "      <td>admin</td>\n",
              "      <td>9746000.0</td>\n",
              "      <td>6993262.0</td>\n",
              "    </tr>\n",
              "  </tbody>\n",
              "</table>\n",
              "</div>\n",
              "      <button class=\"colab-df-convert\" onclick=\"convertToInteractive('df-0935cdb0-c341-4fce-b136-ce8f2c6f4559')\"\n",
              "              title=\"Convert this dataframe to an interactive table.\"\n",
              "              style=\"display:none;\">\n",
              "        \n",
              "  <svg xmlns=\"http://www.w3.org/2000/svg\" height=\"24px\"viewBox=\"0 0 24 24\"\n",
              "       width=\"24px\">\n",
              "    <path d=\"M0 0h24v24H0V0z\" fill=\"none\"/>\n",
              "    <path d=\"M18.56 5.44l.94 2.06.94-2.06 2.06-.94-2.06-.94-.94-2.06-.94 2.06-2.06.94zm-11 1L8.5 8.5l.94-2.06 2.06-.94-2.06-.94L8.5 2.5l-.94 2.06-2.06.94zm10 10l.94 2.06.94-2.06 2.06-.94-2.06-.94-.94-2.06-.94 2.06-2.06.94z\"/><path d=\"M17.41 7.96l-1.37-1.37c-.4-.4-.92-.59-1.43-.59-.52 0-1.04.2-1.43.59L10.3 9.45l-7.72 7.72c-.78.78-.78 2.05 0 2.83L4 21.41c.39.39.9.59 1.41.59.51 0 1.02-.2 1.41-.59l7.78-7.78 2.81-2.81c.8-.78.8-2.07 0-2.86zM5.41 20L4 18.59l7.72-7.72 1.47 1.35L5.41 20z\"/>\n",
              "  </svg>\n",
              "      </button>\n",
              "      \n",
              "  <style>\n",
              "    .colab-df-container {\n",
              "      display:flex;\n",
              "      flex-wrap:wrap;\n",
              "      gap: 12px;\n",
              "    }\n",
              "\n",
              "    .colab-df-convert {\n",
              "      background-color: #E8F0FE;\n",
              "      border: none;\n",
              "      border-radius: 50%;\n",
              "      cursor: pointer;\n",
              "      display: none;\n",
              "      fill: #1967D2;\n",
              "      height: 32px;\n",
              "      padding: 0 0 0 0;\n",
              "      width: 32px;\n",
              "    }\n",
              "\n",
              "    .colab-df-convert:hover {\n",
              "      background-color: #E2EBFA;\n",
              "      box-shadow: 0px 1px 2px rgba(60, 64, 67, 0.3), 0px 1px 3px 1px rgba(60, 64, 67, 0.15);\n",
              "      fill: #174EA6;\n",
              "    }\n",
              "\n",
              "    [theme=dark] .colab-df-convert {\n",
              "      background-color: #3B4455;\n",
              "      fill: #D2E3FC;\n",
              "    }\n",
              "\n",
              "    [theme=dark] .colab-df-convert:hover {\n",
              "      background-color: #434B5C;\n",
              "      box-shadow: 0px 1px 3px 1px rgba(0, 0, 0, 0.15);\n",
              "      filter: drop-shadow(0px 1px 2px rgba(0, 0, 0, 0.3));\n",
              "      fill: #FFFFFF;\n",
              "    }\n",
              "  </style>\n",
              "\n",
              "      <script>\n",
              "        const buttonEl =\n",
              "          document.querySelector('#df-0935cdb0-c341-4fce-b136-ce8f2c6f4559 button.colab-df-convert');\n",
              "        buttonEl.style.display =\n",
              "          google.colab.kernel.accessAllowed ? 'block' : 'none';\n",
              "\n",
              "        async function convertToInteractive(key) {\n",
              "          const element = document.querySelector('#df-0935cdb0-c341-4fce-b136-ce8f2c6f4559');\n",
              "          const dataTable =\n",
              "            await google.colab.kernel.invokeFunction('convertToInteractive',\n",
              "                                                     [key], {});\n",
              "          if (!dataTable) return;\n",
              "\n",
              "          const docLinkHtml = 'Like what you see? Visit the ' +\n",
              "            '<a target=\"_blank\" href=https://colab.research.google.com/notebooks/data_table.ipynb>data table notebook</a>'\n",
              "            + ' to learn more about interactive tables.';\n",
              "          element.innerHTML = '';\n",
              "          dataTable['output_type'] = 'display_data';\n",
              "          await google.colab.output.renderOutput(dataTable, element);\n",
              "          const docLink = document.createElement('div');\n",
              "          docLink.innerHTML = docLinkHtml;\n",
              "          element.appendChild(docLink);\n",
              "        }\n",
              "      </script>\n",
              "    </div>\n",
              "  </div>\n",
              "  "
            ]
          },
          "metadata": {},
          "execution_count": 40
        }
      ]
    },
    {
      "cell_type": "code",
      "source": [
        "from math import cos, asin, sqrt\n",
        "\n",
        "def DistanceMatrix(x1, y1, x2, y2):\n",
        "    p = 0.017453292519943295     #Pi/180\n",
        "    a = 0.5 - cos((x2 - x1) * p)/2 + cos(x1 * p) * cos(x2 * p) * (1 - cos((y2 - y1) * p)) / 2\n",
        "    return 12742 * asin(sqrt(a))"
      ],
      "metadata": {
        "id": "hfXHuWoR_1dO"
      },
      "execution_count": null,
      "outputs": []
    },
    {
      "cell_type": "code",
      "source": [
        "def create_data_model():\n",
        "  nodes = [0] ## initializing with the depot node as 0\n",
        "  lat = {}\n",
        "  lng = {}\n",
        "  original_id_dict = {}\n",
        "\n",
        "  depot_node = [0]\n",
        "  original_id_dict[0] = 'Kolkata'\n",
        "  lat[0] = 22.5411\n",
        "  lng[0] = 88.3378\n",
        "\n",
        "\n",
        "  cust_loc = 1\n",
        "  for city in cities_lat_dict.keys():\n",
        "    lat[cust_loc] = cities_lat_dict[city]\n",
        "    lng[cust_loc] = cities_lng_dict[city]\n",
        "    original_id_dict[cust_loc] = city\n",
        "    nodes.append(cust_loc)\n",
        "    cust_loc +=1\n",
        "\n",
        "  location = {} \n",
        "  distance = {}\n",
        "  for from_node in nodes:\n",
        "    location[from_node] = (lat[from_node], lng[from_node])\n",
        "    distance[from_node] = {}\n",
        "    for to_node in nodes:\n",
        "        distance[from_node][to_node] = DistanceMatrix(lat[from_node], lng[from_node],\n",
        "                                          lat[to_node], lng[to_node])\n",
        "        \n",
        "  data = {}\n",
        "  data[\"locations\"] = location\n",
        "  data[\"num_locations\"] = len(data[\"locations\"])\n",
        "  data[\"num_vehicles\"] = 1\n",
        "  data[\"depot\"] = 0\n",
        "  data[\"distance_matrix\"] = distance\n",
        "  data[\"original_id_dict\"] = original_id_dict\n",
        "  return data\n",
        "\n",
        "\n",
        "\n"
      ],
      "metadata": {
        "id": "5q4hFBNaAGfl"
      },
      "execution_count": null,
      "outputs": []
    },
    {
      "cell_type": "code",
      "source": [
        "def print_solution(data, manager, routing, solution):\n",
        "    \"\"\"Prints solution on console.\"\"\"\n",
        "    print(f'Objective: {solution.ObjectiveValue()}')\n",
        "    total_distance = 0\n",
        "    for vehicle_id in range(data['num_vehicles']):\n",
        "        index = routing.Start(vehicle_id)\n",
        "        plan_output = 'Route for vehicle {}:\\n'.format(vehicle_id)\n",
        "        route_distance = 0\n",
        "        while not routing.IsEnd(index):\n",
        "            \n",
        "            plan_output += ' {} -> '.format(data[\"original_id_dict\"][manager.IndexToNode(index)])\n",
        "            previous_index = index\n",
        "            index = solution.Value(routing.NextVar(index))\n",
        "            route_distance += routing.GetArcCostForVehicle(\n",
        "                previous_index, index, vehicle_id)\n",
        "        plan_output += '{}\\n'.format(data[\"original_id_dict\"][manager.IndexToNode(index)])\n",
        "        plan_output += 'Distance of the route: {}m\\n'.format(route_distance)\n",
        "        if route_distance>0:\n",
        "            print(plan_output)\n",
        "            total_distance += route_distance\n",
        "    print('Total Distance of all routes: {}m'.format(total_distance))"
      ],
      "metadata": {
        "id": "tqVKlsIaIM1l"
      },
      "execution_count": null,
      "outputs": []
    },
    {
      "cell_type": "code",
      "source": [
        "from ortools.constraint_solver import routing_enums_pb2\n",
        "from ortools.constraint_solver import pywrapcp\n",
        "\n",
        "def main():\n",
        "    \"\"\"Entry point of the program.\"\"\"\n",
        "    # Instantiate the data problem.\n",
        "    data = create_data_model()\n",
        "\n",
        "    # Create the routing index manager.\n",
        "    manager = pywrapcp.RoutingIndexManager(len(data['distance_matrix']),\n",
        "                                           data['num_vehicles'], data['depot'])\n",
        "\n",
        "    # Create Routing Model.\n",
        "    routing = pywrapcp.RoutingModel(manager)\n",
        "\n",
        "\n",
        "    # Define cost of each arc.\n",
        "    def distance_callback(from_index, to_index):\n",
        "        \"\"\"Returns the manhattan distance between the two nodes.\"\"\"\n",
        "        # Convert from routing variable Index to distance matrix NodeIndex.\n",
        "        from_node = manager.IndexToNode(from_index)\n",
        "        to_node = manager.IndexToNode(to_index)\n",
        "        return data['distance_matrix'][from_node][to_node]\n",
        "\n",
        "    transit_callback_index = routing.RegisterTransitCallback(distance_callback)\n",
        "    routing.SetArcCostEvaluatorOfAllVehicles(transit_callback_index)\n",
        "\n",
        "    # Setting first solution heuristic.\n",
        "    search_parameters = pywrapcp.DefaultRoutingSearchParameters()\n",
        "    search_parameters.first_solution_strategy = (\n",
        "        routing_enums_pb2.FirstSolutionStrategy.PARALLEL_CHEAPEST_INSERTION)\n",
        "\n",
        "    # Improve the initial solution by a meta-heuristic algorithm\n",
        "\n",
        "    search_parameters.local_search_metaheuristic = (\n",
        "        routing_enums_pb2.LocalSearchMetaheuristic.GUIDED_LOCAL_SEARCH)\n",
        "    # search_parameters.time_limit.FromSeconds(10)\n",
        "    search_parameters.time_limit.seconds = 2\n",
        "    search_parameters.log_search = True\n",
        "\n",
        "    # Solve the problem.\n",
        "    solution = routing.SolveWithParameters(search_parameters)\n",
        "\n",
        "    # Print solution on console.\n",
        "    if solution:\n",
        "        print_solution(data, manager, routing, solution)"
      ],
      "metadata": {
        "id": "aWR53frtHykL"
      },
      "execution_count": null,
      "outputs": []
    },
    {
      "cell_type": "code",
      "source": [
        "if __name__ == '__main__':\n",
        "    main()"
      ],
      "metadata": {
        "colab": {
          "base_uri": "https://localhost:8080/"
        },
        "id": "74dDuKeUH4PH",
        "outputId": "247ebb61-059d-482b-d321-7d8f9be6dfca"
      },
      "execution_count": null,
      "outputs": [
        {
          "output_type": "stream",
          "name": "stdout",
          "text": [
            "Objective: 21636\n",
            "Route for vehicle 0:\n",
            " Kolkata ->  Haora ->  Bāli ->  Kāmārhāti ->  Pānihāti ->  Bhātpāra ->  Barddhamān ->  Durgāpur ->  Āsansol ->  Kulti ->  Dhanbad ->  Agartala ->  Āīzawl ->  Imphāl ->  Kohīma ->  Itānagar ->  Shillong ->  Dispur ->  Guwahati ->  Gangtok ->  Shiliguri ->  Purnea ->  Bhāgalpur ->  Begusarai ->  Muzaffarpur ->  Patna ->  Gaya ->  Ranchi ->  Jamshedpur ->  Raurkela ->  Sambalpur ->  Bilāspur ->  Raipur ->  Bhilai ->  Drug ->  Jabalpur ->  Sannai ->  Allahabad ->  Mirzapur ->  Varanasi ->  Gorakhpur ->  Lucknow ->  Cawnpore ->  Etāwah ->  Fīrozābād ->  Agra ->  Bharatpur ->  Mathura ->  Aligarh ->  Shāhjānpur ->  Bareilly ->  Rāmpur ->  Moradabad ->  Sambhal ->  Hāpur ->  Meerut ->  Muzaffarnagar ->  Pānīpat ->  Karnāl ->  Sahāranpur ->  Dehra Dūn ->  Panchkula ->  Chandigarh ->  Shimla ->  Srinagar ->  Handwāra ->  Jammu ->  Amritsar ->  Jalandhar ->  Ludhiāna ->  Patiāla ->  Hisar ->  Rohtak ->  Sonīpat ->  New Delhi ->  Delhi ->  Ghaziabad ->  Faridabad ->  Alwar ->  Sīkar ->  Bīkaner ->  Jodhpur ->  Pāli ->  Udaipur ->  Bhīlwāra ->  Kota ->  Ajmer ->  Jaipur ->  Gwalior ->  Jhānsi ->  Saugor ->  Bhopal ->  Ujjain ->  Ratlām ->  Indore ->  Jalgaon ->  Dhūlia ->  Mālegaon ->  Vadodara ->  Ahmadabad ->  Ghāndīnagar ->  Bhuj ->  Jāmnagar ->  Porbandar ->  Rajkot ->  Bhāvnagar ->  Surat ->  Damān ->  Nashik ->  Bhayandar ->  Mumbai ->  Thane ->  Bhiwandi ->  Kalyan ->  Ulhāsnagar ->  Chinchvad ->  Pune ->  Ahmadnagar ->  Aurangabad ->  Akola ->  Amrāvati ->  Nagpur ->  Chānda ->  Kagaznāgār ->  Rāmgundam ->  Karīmnagar ->  Warangal ->  Hyderabad ->  Bīdar ->  Nizāmābād ->  Nānded ->  Parbhani ->  Lātūr ->  Gulbarga ->  Solapur ->  Bijāpur ->  Sāngli ->  Ichalkaranji ->  Kolhāpur ->  Panaji ->  Belgaum ->  Hubli ->  Shimoga ->  Davangere ->  Hospet ->  Bellary ->  Rāichūr ->  Kurnool ->  Anantapur ->  Tumkūr ->  Bangalore ->  Bengaluru ->  Mysore ->  Mangalore ->  Kavaratti ->  Calicut ->  Trichūr ->  Kochi ->  Quilon ->  Thiruvananthapuram ->  Nāgercoil ->  Tinnevelly ->  Tuticorin ->  Rājapālaiyam ->  Madurai ->  Coimbatore ->  Tiruppūr ->  Salem ->  Trichinopoly ->  Tanjore ->  Puducherry ->  Chennai ->  Tirupati ->  Cuddapah ->  Nellore ->  Ongole ->  Guntūr ->  Bezwada ->  Rājahmundry ->  Kākināda ->  Visakhapatnam ->  Vizianagaram ->  Brahmapur ->  Bhubaneshwar ->  Cuttack ->  Port Blair ->  Bārāsat ->  Uluberiya -> Kolkata\n",
            "Distance of the route: 21636m\n",
            "\n",
            "Total Distance of all routes: 21636m\n"
          ]
        }
      ]
    },
    {
      "cell_type": "code",
      "source": [],
      "metadata": {
        "id": "ovvZo923Il7t"
      },
      "execution_count": null,
      "outputs": []
    },
    {
      "cell_type": "code",
      "source": [],
      "metadata": {
        "id": "c0inY5dCTK_X"
      },
      "execution_count": null,
      "outputs": []
    }
  ]
}